{
 "cells": [
  {
   "cell_type": "markdown",
   "metadata": {
    "id": "Vw_b3iVGl_9w"
   },
   "source": [
    "## ***Análise do Sistema Metroviário DE São Paulo***\n"
   ]
  },
  {
   "cell_type": "markdown",
   "metadata": {
    "id": "-_WW84GRb4jP"
   },
   "source": [
    "## **Resumo**"
   ]
  },
  {
   "cell_type": "markdown",
   "metadata": {
    "id": "Q2BmgaTrEJEL"
   },
   "source": [
    "<div style=\"text-align: justify;\">\n",
    "Este projeto tem como objetivo analisar o sistema metroviário de São Paulo, considerando o sistema de metro e trens, as informações foram retiradas do portal de transparencia das empresas Metro, CPTM, ViaQuatro e Linha Mobilidade,\n",
    "O grafo consiste das estações de 5 linhas do metrô de São Paulo (Azul, Verde, Vermelha, Amarela, Lilás e Prata) e 7 linhas de trem (Rubi, Diamante, Esmeralda, Turquesa, Coral, Safira e Jade), onde cada estação será um representada por um vértice e as conexões entre estações representadas por arestas com pesos dado pela diferença de passageiros entre as duas estações.\n",
    "</div>"
   ]
  },
  {
   "cell_type": "markdown",
   "metadata": {
    "id": "_qJ0_gMCF-kb"
   },
   "source": [
    "### **Coleta e preparação dos dados**\n",
    "\n",
    "<div style=\"text-align: justify;\">\n",
    "Os dados do projeto foram coletados através do site e portais de transparencia do Metro de SP (https://transparencia.metrosp.com.br/dataset/demanda/resource/e69866e9-6c7a-424f-ad4d-816c6b96b1c4) CPTM, Via Mobilidade e ViaQuatro. Após a criação do grafo base, adicionamos ao grafo as estações de cada linha sequencialmente, tomando cuidado para não acrescentar a mesma estação duas vezes caso ela esteja presente em mais de uma linha. Em seguida, inserimos as arestas analisando as conexões das estações em cada linha, colocando como peso das arestas a distância em quilômetros entre estações vizinhas.\n",
    "</div>\n",
    "\n",
    "\n"
   ]
  },
  {
   "cell_type": "markdown",
   "metadata": {
    "id": "_H41nWTwlVFn"
   },
   "source": [
    "## **Modelagem**\n"
   ]
  },
  {
   "cell_type": "markdown",
   "metadata": {
    "id": "B13bB_84eizG"
   },
   "source": [
    "<div style=\"text-align: justify;\">\n",
    "O grafo foi modelado da seguinte forma: cada estação do metrô de São Paulo foi representada por um vértice e as conexões, entre cada par de estações, foram representadas por arestas, o sistema de ponderação das arestas é explica na sequência.\n",
    "<div>"
   ]
  },
  {
   "cell_type": "markdown",
   "metadata": {
    "id": "S34Ky7jIlkqH"
   },
   "source": [
    "**Importando bibliotecas necessárias**"
   ]
  },
  {
   "cell_type": "code",
   "execution_count": 247,
   "metadata": {
    "id": "VBQJdFeEOO72"
   },
   "outputs": [],
   "source": [
    "import numpy as np\n",
    "import pandas as pd\n",
    "import networkx as nx\n",
    "import matplotlib.pyplot as plt\n",
    "from matplotlib.pyplot import figure"
   ]
  },
  {
   "cell_type": "markdown",
   "metadata": {},
   "source": [
    "## Estatistica para cálculos dos pesos das arestas"
   ]
  },
  {
   "cell_type": "markdown",
   "metadata": {},
   "source": [
    "O peso das arestas foi baseado na demanda por passageiros de cada estação. Os dados foram coletados de (1, 2, 3) sendo todos colocados como a média diaria por milhares de passageiros. O peso entre aresta A e B é a diferença da demanda entre as duas estações."
   ]
  },
  {
   "cell_type": "code",
   "execution_count": 248,
   "metadata": {},
   "outputs": [],
   "source": [
    "linha_azul = pd.read_csv('Dados/Metro/Linha_Azul.csv', sep=';')\n",
    "linha_verde = pd.read_csv('Dados/Metro/Linha_Verde.csv', sep=';')\n",
    "linha_vermelha = pd.read_csv('Dados/Metro/Linha_Vermelha.csv', sep=';')\n",
    "linha_amarela = pd.read_csv('Dados/Metro/Linha_Amarela.csv', sep=';')\n",
    "linha_lilas = pd.read_csv('Dados/Metro/Linha_Lilas.csv', sep=';')\n",
    "linha_rubi = pd.read_csv('Dados/Metro/Linha_Rubi.csv', sep=';')\n",
    "linha_diamante = pd.read_csv('Dados/Metro/Linha_Diamante.csv', sep=';')\n",
    "linha_esmeralda = pd.read_csv('Dados/Metro/Linha_Esmeralda.csv', sep=';')\n",
    "linha_turquesa = pd.read_csv('Dados/Metro/Linha_Turquesa.csv', sep=';')\n",
    "linha_coral = pd.read_csv('Dados/Metro/Linha_Coral.csv', sep=';')\n",
    "linha_safira = pd.read_csv('Dados/Metro/Linha_Safira.csv', sep=';')\n",
    "linha_jade = pd.read_csv('Dados/Metro/Linha_Jade.csv', sep=';')\n",
    "linha_prata = pd.read_csv('Dados/Metro/Linha_Prata.csv', sep=';')"
   ]
  },
  {
   "cell_type": "code",
   "execution_count": 249,
   "metadata": {},
   "outputs": [],
   "source": [
    "linha_azul = linha_azul.drop(columns=['Jan', 'Fev', 'Mar',\t'Abr', 'Mai', 'Jun', 'Jul',\t'Ago', 'Set', 'Out', 'Nov', 'Dez'])\n",
    "\n",
    "linha_verde = linha_verde.drop(columns=['Jan', 'Fev', 'Mar', 'Abr', 'Mai', 'Jun', 'Jul', 'Ago', 'Set', 'Out', 'Nov', 'Dez'])\n",
    "\n",
    "linha_vermelha = linha_vermelha.drop(columns=['Jan', 'Fev', 'Mar', 'Abr', 'Mai', 'Jun', 'Jul',\t'Ago', 'Set', 'Out', 'Nov', 'Dez'])\n",
    "\n",
    "linha_prata = linha_prata.drop(columns=['Jan', 'Fev', 'Mar', 'Abr', 'Mai', 'Jun', 'Jul', 'Ago', 'Set', 'Out', 'Nov', 'Dez'])\n"
   ]
  },
  {
   "cell_type": "code",
   "execution_count": 250,
   "metadata": {},
   "outputs": [],
   "source": [
    "linha_rubi['Media'] = pd.to_numeric(linha_rubi['Media'], errors='coerce')\n",
    "linha_rubi['Media'] = linha_rubi['Media']/31000\n",
    "\n",
    "linha_turquesa['Media'] = pd.to_numeric(linha_turquesa['Media'], errors='coerce')\n",
    "linha_turquesa['Media'] = linha_turquesa['Media']/31000\n",
    "\n",
    "linha_coral['Media'] = pd.to_numeric(linha_coral['Media'], errors='coerce')\n",
    "linha_coral['Media'] = linha_coral['Media']/31000\n",
    "\n",
    "linha_safira['Media'] = pd.to_numeric(linha_safira['Media'], errors='coerce')\n",
    "linha_safira['Media'] = linha_safira['Media']/31000\n",
    "\n",
    "linha_jade['Media'] = pd.to_numeric(linha_jade['Media'], errors='coerce')\n",
    "linha_jade['Media'] = linha_jade['Media']/31000"
   ]
  },
  {
   "cell_type": "code",
   "execution_count": 251,
   "metadata": {},
   "outputs": [],
   "source": [
    "linha_azul['Difference'] = linha_azul['Media'].diff().abs()\n",
    "linha_verde['Difference'] = linha_verde['Media'].diff().abs()\n",
    "linha_vermelha['Difference'] = linha_vermelha['Media'].diff().abs()\n",
    "linha_amarela['Difference'] = linha_amarela['Media'].diff().abs()\n",
    "linha_lilas['Difference'] = linha_lilas['Media'].diff().abs()\n",
    "linha_rubi['Difference'] = linha_rubi['Media'].diff().abs()\n",
    "linha_diamante['Difference'] = linha_diamante['Media'].diff().abs()\n",
    "linha_esmeralda['Difference'] = linha_esmeralda['Media'].diff().abs()\n",
    "linha_turquesa['Difference'] = linha_turquesa['Media'].diff().abs()\n",
    "linha_coral['Difference'] = linha_coral['Media'].diff().abs()\n",
    "linha_safira['Difference'] = linha_safira['Media'].diff().abs()\n",
    "linha_jade['Difference'] = linha_jade['Media'].diff().abs()\n",
    "linha_prata['Difference'] = linha_prata['Media'].diff().abs()"
   ]
  },
  {
   "cell_type": "markdown",
   "metadata": {
    "id": "JbBsVf11lolN"
   },
   "source": [
    "**Criando o grafo G**"
   ]
  },
  {
   "cell_type": "code",
   "execution_count": 252,
   "metadata": {
    "id": "bwJpiBhtln5n"
   },
   "outputs": [],
   "source": [
    "G = nx.Graph()"
   ]
  },
  {
   "cell_type": "markdown",
   "metadata": {
    "id": "gOWI-nhRN17d"
   },
   "source": [
    "## **Adicionando vértices**"
   ]
  },
  {
   "cell_type": "markdown",
   "metadata": {
    "id": "vOUjTzrYO3c9"
   },
   "source": [
    "### Linha 1 Azul\n"
   ]
  },
  {
   "cell_type": "code",
   "execution_count": 253,
   "metadata": {
    "id": "9NVruBXFO3tj"
   },
   "outputs": [],
   "source": [
    "G.add_nodes_from([\"Jabaquara\", \"Conceição\", \"São Judas\", \"Saúde\", \"Praça da Árvore\", \"Santa Cruz\", \"Vila Mariana\", \"Ana Rosa\", \"Paraíso\", \"Vergueiro\", \"São Joaquim\", \"Liberdade\", \"Sé\", \"São Bento\", \"Luz\", \"Tiradentes\", \"Armênia\", \"Portuguesa-Tietê\", \"Carandiru\", \"Santana\", \"Jardim São Paulo-Ayrton Senna\", \"Parada Inglesa\", \"Tucuruvi\"])"
   ]
  },
  {
   "cell_type": "code",
   "execution_count": 254,
   "metadata": {
    "colab": {
     "background_save": true
    },
    "id": "PIy8-oiCwDJ6"
   },
   "outputs": [],
   "source": [
    "G.add_weighted_edges_from([(\"Jabaquara\", \"Conceição\", 39.00), (\"Conceição\", \"São Judas\", 14), (\"São Judas\", \"Saúde\", 11), (\"Saúde\", \"Praça da Árvore\", 11), (\"Praça da Árvore\", \"Santa Cruz\", 78), (\"Santa Cruz\", \"Vila Mariana\", 73), (\"Vila Mariana\", \"Ana Rosa\", 57), (\"Ana Rosa\", \"Paraíso\", 19), (\"Paraíso\", \"Vergueiro\", 70), (\"Vergueiro\", \"São Joaquim\", 3), (\"São Joaquim\", \"Liberdade\", 8), (\"Liberdade\", \"Sé\", 148), (\"Sé\", \"São Bento\", 118), (\"São Bento\", \"Luz\", 78), (\"Luz\", \"Tiradentes\", 114), (\"Tiradentes\", \"Armênia\", 4), (\"Armênia\", \"Portuguesa-Tietê\", 25), (\"Portuguesa-Tietê\", \"Carandiru\", 33), (\"Carandiru\", \"Santana\", 37), (\"Santana\", \"Jardim São Paulo-Ayrton Senna\", 37), (\"Jardim São Paulo-Ayrton Senna\", \"Parada Inglesa\", 2), (\"Parada Inglesa\", \"Tucuruvi\", 42)])"
   ]
  },
  {
   "cell_type": "markdown",
   "metadata": {
    "id": "zTtOcbk1Q-JM"
   },
   "source": [
    "### Linha 2 Verde\n"
   ]
  },
  {
   "cell_type": "code",
   "execution_count": 255,
   "metadata": {
    "id": "sxYv93ymRCpk"
   },
   "outputs": [],
   "source": [
    "G.add_nodes_from([\"Vila Madalena\", \"Santuário Nossa Senhora de Fátima-Sumaré\", \"Clínicas\", \"Paulista-Consolação\", \"Trianon-Masp\", \"Brigadeiro\", \"Paraíso\", \"Ana Rosa\", \"Chácara Klabin\", \"Santos-Imigrantes\", \"Alto do Ipiranga\", \"Sacoma\", \"Tamanduatei\", \"Vila Prudente\"],)"
   ]
  },
  {
   "cell_type": "code",
   "execution_count": 256,
   "metadata": {
    "colab": {
     "background_save": true
    },
    "id": "v0tr0Iz6bTQl"
   },
   "outputs": [],
   "source": [
    "G.add_weighted_edges_from([(\"Vila Madalena\", \"Santuário Nossa Senhora de Fátima-Sumaré\", 11), (\"Santuário Nossa Senhora de Fátima-Sumaré\", \"Clínicas\", 11), (\"Clínicas\", \"Paulista-Consolação\", 76), (\"Paulista-Consolação\", \"Trianon-Masp\", 51), (\"Trianon-Masp\", \"Brigadeiro\", 3), (\"Brigadeiro\", \"Paraíso\", 13), (\"Paraíso\", \"Ana Rosa\", 3), (\"Ana Rosa\", \"Chácara Klabin\", 23), (\"Chácara Klabin\", \"Santos-Imigrantes\", 67), (\"Santos-Imigrantes\", \"Alto do Ipiranga\", 3), (\"Alto do Ipiranga\", \"Sacoma\", 22), (\"Sacoma\", \"Tamanduatei\", 34), (\"Tamanduatei\", \"Vila Prudente\", 2)])"
   ]
  },
  {
   "cell_type": "markdown",
   "metadata": {
    "id": "3D4aLwE7SjmQ"
   },
   "source": [
    "### Linha 3 Vermelha"
   ]
  },
  {
   "cell_type": "code",
   "execution_count": 257,
   "metadata": {
    "colab": {
     "background_save": true
    },
    "id": "1ZThsYdBSkO9"
   },
   "outputs": [],
   "source": [
    "G.add_nodes_from([\"Palmeiras-Barra Funda\", \"Marechal Deodoro\", \"Santa Cecília\", \"República\", \"Anhangabaú\", \"Sé\", \"Pedro II\", \"Brás\", \"Bresser-Mooca\", \"Belém\", \"Tatuapé\", \"Carrão-Assaí Atacadista\", \"Penha\", \"Vila Matilde\", \"Guilhermina-Esperança\", \"Patriarca\", \"Artur Alvim\", \"Corinthians-Itaquera\"])"
   ]
  },
  {
   "cell_type": "code",
   "execution_count": 258,
   "metadata": {
    "colab": {
     "background_save": true
    },
    "id": "fn62TCKe2MWY"
   },
   "outputs": [],
   "source": [
    "G.add_weighted_edges_from([(\"Palmeiras-Barra Funda\", \"Marechal Deodoro\", 109), (\"Marechal Deodoro\", \"Santa Cecília\", 3), (\"Santa Cecília\", \"República\", 96), (\"República\", \"Anhangabaú\", 68), (\"Anhangabaú\", \"Sé\", 149), (\"Sé\", \"Pedro II\", 184), (\"Pedro II\", \"Brás\", 56), (\"Brás\", \"Bresser-Mooca\", 41), (\"Bresser-Mooca\", \"Belém\", 6), (\"Belém\", \"Tatuapé\", 42), (\"Tatuapé\", \"Carrão-Assaí Atacadista\", 31), (\"Carrão-Assaí Atacadista\", \"Penha\", 20), (\"Penha\", \"Vila Matilde\", 1), (\"Vila Matilde\", \"Guilhermina-Esperança\", 5), (\"Guilhermina-Esperança\", \"Patriarca\", 1), (\"Patriarca\", \"Artur Alvim\", 33), (\"Artur Alvim\", \"Corinthians-Itaquera\", 18)])"
   ]
  },
  {
   "cell_type": "markdown",
   "metadata": {
    "id": "iPwa9sQcTT5e"
   },
   "source": [
    "### Linha 4 Amarela"
   ]
  },
  {
   "cell_type": "code",
   "execution_count": 259,
   "metadata": {
    "colab": {
     "background_save": true
    },
    "id": "8zVqax2pTYfG"
   },
   "outputs": [],
   "source": [
    "G.add_nodes_from([\"Luz\", \"República\", \"Higienópolis-Mackenzie\", \"Paulista-Consolação\", \"Oscar Freire\", \"Fradique Coutinho\", \"Faria Lima\", \"Pinheiros\", \"Butantã\", \"São Paulo-Morumbi\", \"Vila Sônia\"])"
   ]
  },
  {
   "cell_type": "code",
   "execution_count": 260,
   "metadata": {
    "colab": {
     "background_save": true
    },
    "id": "Mfo8DmCB3Up4"
   },
   "outputs": [],
   "source": [
    "G.add_weighted_edges_from([(\"Luz\", \"República\", 37), (\"República\", \"Higienópolis-Mackenzie\", 791), (\"Higienópolis-Mackenzie\", \"Paulista-Consolação\", 83), (\"Paulista-Consolação\", \"Oscar Freire\", 86), (\"Oscar Freire\", \"Fradique Coutinho\", 6), (\"Fradique Coutinho\", \"Faria Lima\", 18), (\"Faria Lima\", \"Pinheiros\", 73), (\"Pinheiros\", \"Butantã\", 69), (\"Butantã\", \"São Paulo-Morumbi\", 13), (\"São Paulo-Morumbi\", \"Vila Sônia\", 24)])"
   ]
  },
  {
   "cell_type": "markdown",
   "metadata": {
    "id": "oh_0ypooUZcI"
   },
   "source": [
    "### Linha 5 Lilas"
   ]
  },
  {
   "cell_type": "code",
   "execution_count": 261,
   "metadata": {
    "colab": {
     "background_save": true
    },
    "id": "HRZ-_H7PUdiP"
   },
   "outputs": [],
   "source": [
    "G.add_nodes_from([\"Capão Redondo\", \"Campo Limpo\", \"Vila das Belezas\", \"Giovanni Gronchi\", \"Santo Amaro\", \"Largo Treze\", \"Adolfo Pinheiro\", \"Alto da Boa Vista\", \"Borba Gato\", \"Brooklin\", \"Campo Belo\", \"Eucaliptos\", \"Moema\", \"AACD-Servidor\", \"Hospital São Paulo\", \"Santa Cruz\", \"Chácara Klabin\"])"
   ]
  },
  {
   "cell_type": "code",
   "execution_count": 262,
   "metadata": {
    "colab": {
     "background_save": true
    },
    "id": "Jhdy0fTP4qNI"
   },
   "outputs": [],
   "source": [
    "G.add_weighted_edges_from([(\"Capão Redondo\", \"Campo Limpo\", 58), (\"Campo Limpo\", \"Vila das Belezas\", 23), (\"Vila das Belezas\", \"Giovanni Gronchi\", 8), (\"Giovanni Gronchi\", \"Santo Amaro\", 70), (\"Santo Amaro\", \"Largo Treze\", 58), (\"Largo Treze\", \"Adolfo Pinheiro\", 23), (\"Adolfo Pinheiro\", \"Alto da Boa Vista\", 7), (\"Alto da Boa Vista\", \"Borba Gato\", 6), (\"Borba Gato\", \"Brooklin\", 6), (\"Brooklin\", \"Campo Belo\", 4), (\"Campo Belo\", \"Eucaliptos\", 5), (\"Eucaliptos\", \"Moema\", 2), (\"Moema\", \"AACD-Servidor\", 9), (\"AACD-Servidor\", \"Hospital São Paulo\", 1), (\"Hospital São Paulo\", \"Santa Cruz\", 54), (\"Santa Cruz\", \"Chácara Klabin\", 25)])"
   ]
  },
  {
   "cell_type": "markdown",
   "metadata": {
    "id": "N90I2CRdVvLh"
   },
   "source": [
    "### Linha 7 Rubi"
   ]
  },
  {
   "cell_type": "code",
   "execution_count": 263,
   "metadata": {
    "colab": {
     "background_save": true
    },
    "id": "WTnmFsZmVv-o"
   },
   "outputs": [],
   "source": [
    "G.add_nodes_from([\"Luz\", \"Palmeiras-Barra Funda\", \"Agua Branca\", \"Lapa R\", \"Piqueri\", \"Pirituba\", \"Vila Clarice\", \"Jaraguá\", \"Vila Aurora\", \"Perus\", \"Caieiras\", \"Franco da Rocha\", \"Baltazar Fidélis\", \"Francisco Morato\", \"Botujuru\", \"Campo Limpo Paulista\", \"Várzea Paulista\", \"Jundiaí\"])"
   ]
  },
  {
   "cell_type": "code",
   "execution_count": 264,
   "metadata": {
    "colab": {
     "background_save": true
    },
    "id": "9uhL3xXi5pqg"
   },
   "outputs": [],
   "source": [
    "G.add_weighted_edges_from([(\"Luz\", \"Palmeiras-Barra Funda\", 71), (\"Palmeiras-Barra Funda\", \"Agua Branca\", 104), (\"Agua Branca\", \"Lapa R\", 18), (\"Lapa R\", \"Piqueri\", 7), (\"Piqueri\", \"Pirituba\", 6), (\"Pirituba\", \"Vila Clarice\", 10), (\"Vila Clarice\", \"Jaraguá\", 11), (\"Jaraguá\", \"Vila Aurora\", 6), (\"Vila Aurora\", \"Perus\", 10), (\"Perus\", \"Caieiras\", 8), (\"Caieiras\", \"Franco da Rocha\", 3), (\"Franco da Rocha\", \"Baltazar Fidélis\", 12), (\"Baltazar Fidélis\", \"Francisco Morato\", 13), (\"Francisco Morato\", \"Botujuru\", 36), (\"Botujuru\", \"Campo Limpo Paulista\", 1), (\"Campo Limpo Paulista\", \"Várzea Paulista\", 1), (\"Várzea Paulista\", \"Jundiaí\", 328)])"
   ]
  },
  {
   "cell_type": "markdown",
   "metadata": {},
   "source": [
    "### Linha 8 Diamante"
   ]
  },
  {
   "cell_type": "code",
   "execution_count": 265,
   "metadata": {},
   "outputs": [],
   "source": [
    "G.add_nodes_from([\"Armador Bueno\", \"Santa Rita\", \"Itapevi\", \"Eng Cardoso\", \"Sangrado Coração\", \"Jandira\", \"Jardim Silveira\", \"Jardim Belval\", \"Barueri\", \"Antonio João\", \"Santa Terezinha\", \"Carapicuiba\", \"General Miguel Costa\", \"Quitauna\", \"Comandante Sampaio\", \"Osasco\", \"Presidente Altino\", \"Imperatriz Leopoldina\", \"Domingos Moraes\", \"Lapa D\", \"Palmeiras-Barra Funda\", \"Julio Prestes\"])"
   ]
  },
  {
   "cell_type": "code",
   "execution_count": 266,
   "metadata": {},
   "outputs": [],
   "source": [
    "G.add_weighted_edges_from([(\"Armador Bueno\", \"Santa Rita\", 2), (\"Santa Rita\", \"Itapevi\", 2), (\"Itapevi\", \"Eng Cardoso\", 22), (\"Eng Cardoso\", \"Sangrado Coração\", 19), (\"Sangrado Coração\", \"Jandira\", 7), (\"Jandira\", \"Jardim Silveira\", 6), (\"Jardim Silveira\", \"Jardim Belval\", 3), (\"Jardim Belval\", \"Barueri\", 18), (\"Barueri\", \"Antonio João\", 8), (\"Antonio João\", \"Santa Terezinha\", 12), (\"Santa Terezinha\", \"Carapicuiba\", 23), (\"Carapicuiba\", \"General Miguel Costa\", 11), (\"General Miguel Costa\", \"Quitauna\", 9), (\"Quitauna\", \"Comandante Sampaio\", 4), (\"Comandante Sampaio\", \"Osasco\", 27), (\"Osasco\", \"Presidente Altino\", 29), (\"Presidente Altino\", \"Imperatriz Leopoldina\", 8), (\"Imperatriz Leopoldina\", \"Domingos Moraes\", 2), (\"Domingos Moraes\", \"Lapa D\", 2), (\"Lapa D\", \"Palmeiras-Barra Funda\", 75), (\"Palmeiras-Barra Funda\", \"Julio Prestes\", 91)])"
   ]
  },
  {
   "cell_type": "markdown",
   "metadata": {},
   "source": [
    "### Linha 9 Esmeralda"
   ]
  },
  {
   "cell_type": "code",
   "execution_count": 267,
   "metadata": {},
   "outputs": [],
   "source": [
    "G.add_nodes_from([\"Osasco\", \"Presidente Altino\", \"Ceasa\", \"Villa Lobos–Jaguaré\", \"Cidade Universitária\", \"Pinheiros\", \"Hebraica–Rebouças\", \"Cidade Jardim\", \"Vila Olímpia\", \"Berrini\", \"Morumbi\", \"Granja Julieta\", \"João Dias\", \"Santo Amaro\", \"Socorro\", \"Jurubatuba\", \"Autódromo\", \"Primavera–Interlagos\", \"Grajaú\", \"Bruno Covas/Mendes–Vila Natal\", \"Varginha\"])"
   ]
  },
  {
   "cell_type": "code",
   "execution_count": 268,
   "metadata": {},
   "outputs": [],
   "source": [
    "G.add_weighted_edges_from([(\"Osasco\", \"Presidente Altino\", 13), (\"Presidente Altino\", \"Ceasa\", 2), (\"Ceasa\", \"Villa Lobos–Jaguaré\", 6), (\"Villa Lobos–Jaguaré\", \"Cidade Universitária\", 5), (\"Cidade Universitária\", \"Pinheiros\", 98), (\"Pinheiros\", \"Hebraica–Rebouças\", 96), (\"Hebraica–Rebouças\", \"Cidade Jardim\", 6), (\"Cidade Jardim\", \"Vila Olímpia\", 15), (\"Vila Olímpia\", \"Berrini\", 12), (\"Berrini\", \"Morumbi\", 4), (\"Morumbi\", \"Granja Julieta\", 10), (\"Granja Julieta\", \"João Dias\", 5), (\"João Dias\", \"Santo Amaro\", 79), (\"Santo Amaro\", \"Socorro\", 77), (\"Socorro\", \"Jurubatuba\", 4), (\"Jurubatuba\", \"Autódromo\", 4), (\"Autódromo\", \"Primavera–Interlagos\", 5), (\"Primavera–Interlagos\", \"Grajaú\", 30), (\"Grajaú\", \"Bruno Covas/Mendes–Vila Natal\", 13), (\"Bruno Covas/Mendes–Vila Natal\", \"Varginha\", 33)])"
   ]
  },
  {
   "cell_type": "markdown",
   "metadata": {
    "id": "t2Q7p2uG_NNK"
   },
   "source": [
    "### Linha 10 Turquesa"
   ]
  },
  {
   "cell_type": "code",
   "execution_count": 269,
   "metadata": {
    "colab": {
     "background_save": true
    },
    "id": "Ts2CuWryWKcI"
   },
   "outputs": [],
   "source": [
    "G.add_nodes_from([\"Luz\", \"Brás\", \"Juventude–Mooca\", \"Ipiranga\", \"Tamanduatei\", \"São Caetano\", \"Utinga\", \"Prefeito Saladino\", \"Santo André\", \"Capuava\", \"Mauá\", \"Guapituba\", \"Ribeirão Pires\", \"Rio Grande da Serra\"])"
   ]
  },
  {
   "cell_type": "code",
   "execution_count": 270,
   "metadata": {},
   "outputs": [],
   "source": [
    "G.add_weighted_edges_from([(\"Luz\", \"Brás\", 22), (\"Brás\", \"Juventude–Mooca\", 17), (\"Juventude–Mooca\", \"Ipiranga\", 1), (\"Ipiranga\", \"Tamanduatei\", 46), (\"Tamanduatei\", \"São Caetano\", 33), (\"São Caetano\", \"Utinga\", 16), (\"Utinga\", \"Prefeito Saladino\", 1), (\"Prefeito Saladino\", \"Santo André\", 37), (\"Santo André\", \"Capuava\", 38), (\"Capuava\", \"Mauá\", 1), (\"Mauá\", \"Guapituba\", 32), (\"Guapituba\", \"Ribeirão Pires\", 6), (\"Ribeirão Pires\", \"Rio Grande da Serra\", 5)])"
   ]
  },
  {
   "cell_type": "markdown",
   "metadata": {
    "id": "-usERp_CXUwq"
   },
   "source": [
    "### Linha 11 Coral"
   ]
  },
  {
   "cell_type": "code",
   "execution_count": 271,
   "metadata": {
    "colab": {
     "background_save": true
    },
    "id": "DUYsJ_O_PDSt"
   },
   "outputs": [],
   "source": [
    "G.add_nodes_from([\"Luz\", \"Brás\", \"Tatuapé\", \"Corinthians-Itaquera\", \"Dom Bosco\", \"José Bonifácio\", \"Guaianases\", \"Antonio Gianetti Neto\", \"Ferraz de Vasconcelos\", \"Poá\", \"Calmon Viana\", \"Suzano\", \"Jundiapeba\", \"Bras Cubas\", \"Mogi das Cruzes\", \"Estudantes\"])"
   ]
  },
  {
   "cell_type": "code",
   "execution_count": 272,
   "metadata": {},
   "outputs": [],
   "source": [
    "G.add_weighted_edges_from([(\"Luz\", \"Brás\", 22), (\"Brás\", \"Tatuapé\", 34), (\"Tatuapé\", \"Corinthians-Itaquera\", 31), (\"Corinthians-Itaquera\", \"Dom Bosco\", 20), (\"Dom Bosco\", \"José Bonifácio\", 1), (\"José Bonifácio\", \"Guaianases\", 594), (\"Guaianases\", \"Antonio Gianetti Neto\", 597), (\"Antonio Gianetti Neto\", \"Ferraz de Vasconcelos\", 10), (\"Ferraz de Vasconcelos\", \"Poá\", 11), (\"Poá\", \"Calmon Viana\", 5), (\"Calmon Viana\", \"Suzano\", 26), (\"Suzano\", \"Jundiapeba\", 25), (\"Jundiapeba\", \"Bras Cubas\", 1), (\"Bras Cubas\", \"Mogi das Cruzes\", 3), (\"Mogi das Cruzes\", \"Estudantes\", 3)])"
   ]
  },
  {
   "cell_type": "markdown",
   "metadata": {},
   "source": [
    "### Linha 12 Safira"
   ]
  },
  {
   "cell_type": "code",
   "execution_count": 273,
   "metadata": {},
   "outputs": [],
   "source": [
    "G.add_nodes_from([\"Brás\", \"Tatuapé\", \"Engenheiro Goulart\", \"USP Leste\", \"Comendador Ermelino\", \"São Miguel Paulista\", \"Jardim Helena-Vila Mara\", \"Itaim Paulista\", \"Jardim Romano\", \"Engenheiro Manoel Feio\", \"Itaquaquecetuba\", \"Aracaré\", \"Calmon Viana\"])"
   ]
  },
  {
   "cell_type": "code",
   "execution_count": 274,
   "metadata": {},
   "outputs": [],
   "source": [
    "G.add_weighted_edges_from([(\"Brás\", \"Tatuapé\", 19), (\"Tatuapé\", \"Engenheiro Goulart\", 16), (\"Engenheiro Goulart\", \"USP Leste\", 1), (\"USP Leste\", \"Comendador Ermelino\", 2), (\"Comendador Ermelino\", \"São Miguel Paulista\", 7), (\"São Miguel Paulista\", \"Jardim Helena-Vila Mara\", 1), (\"Jardim Helena-Vila Mara\", \"Itaim Paulista\", 12), (\"Itaim Paulista\", \"Jardim Romano\", 10), (\"Jardim Romano\", \"Engenheiro Manoel Feio\", 8), (\"Engenheiro Manoel Feio\", \"Itaquaquecetuba\", 7), (\"Itaquaquecetuba\", \"Aracaré\", 10), (\"Aracaré\", \"Calmon Viana\", 4)])"
   ]
  },
  {
   "cell_type": "markdown",
   "metadata": {},
   "source": [
    "### Linha 13 Jade"
   ]
  },
  {
   "cell_type": "code",
   "execution_count": 275,
   "metadata": {},
   "outputs": [],
   "source": [
    "G.add_nodes_from([\"Engenheiro Goulart\", \"Guarulhos–Cecap\", \"Aeroporto-Guarulhos\"])"
   ]
  },
  {
   "cell_type": "code",
   "execution_count": 276,
   "metadata": {},
   "outputs": [],
   "source": [
    "G.add_weighted_edges_from([(\"Engenheiro Goulart\", \"Guarulhos–Cecap\", 3), (\"Guarulhos–Cecap\", \"Aeroporto-Guarulhos\", 5)])"
   ]
  },
  {
   "cell_type": "markdown",
   "metadata": {},
   "source": [
    "### Linha 15 Prata"
   ]
  },
  {
   "cell_type": "code",
   "execution_count": 277,
   "metadata": {
    "colab": {
     "background_save": true
    },
    "id": "9dj_uvoQU_j_"
   },
   "outputs": [],
   "source": [
    "G.add_nodes_from([\"Vila Prudente\", \"Oratório\", \"São Lucas\", \"Camilo Haddad\", \"Vila Tolstói\", \"Vila União\", \"Jardim Planalto\", \"Sapopemba\", \"Fazenda da Juta\", \"São Mateus\", \"Jardim Colonial\"])"
   ]
  },
  {
   "cell_type": "code",
   "execution_count": 278,
   "metadata": {},
   "outputs": [],
   "source": [
    "G.add_weighted_edges_from([(\"Vila Prudente\", \"Oratório\", 51), (\"Oratório\", \"São Lucas\", 2), (\"São Lucas\", \"Camilo Haddad\", 1), (\"Camilo Haddad\", \"Vila Tolstói\", 1), (\"Vila Tolstói\", \"Vila União\", 1), (\"Vila União\", \"Jardim Planalto\", 4), (\"Jardim Planalto\", \"Sapopemba\", 1), (\"Sapopemba\", \"Fazenda da Juta\", 5), (\"Fazenda da Juta\", \"São Mateus\", 12), (\"São Mateus\", \"Jardim Colonial\", 6)])"
   ]
  },
  {
   "cell_type": "markdown",
   "metadata": {
    "id": "_dFgHCGjN7-6"
   },
   "source": [
    "# **Exportando grafo em formato gexf para utilização do Gephi**"
   ]
  },
  {
   "cell_type": "code",
   "execution_count": 279,
   "metadata": {
    "id": "1c9me7L9GtV9"
   },
   "outputs": [],
   "source": [
    "# convert the graph to Gephi\n",
    "nx.write_gexf(G, path=\"graph.gexf\", version=\"1.2draft\")"
   ]
  },
  {
   "cell_type": "markdown",
   "metadata": {
    "id": "VKBMdDzBOLy7"
   },
   "source": [
    "# **Grafo**"
   ]
  },
  {
   "cell_type": "markdown",
   "metadata": {},
   "source": [
    "![Grafo](Figures/MetroSP2024.png)\n"
   ]
  },
  {
   "cell_type": "markdown",
   "metadata": {
    "id": "b8tVLYMHORkW"
   },
   "source": [
    "## **Análise do grafo**"
   ]
  },
  {
   "cell_type": "markdown",
   "metadata": {
    "id": "Ox3XSpgl85VI"
   },
   "source": [
    "## Análise das propriedades basicas do grafo."
   ]
  },
  {
   "cell_type": "markdown",
   "metadata": {
    "id": "Kq0MYJMO85Om"
   },
   "source": [
    "Nesta seção iremos analisar algumas propriedades básicas do grafo como a ordem, o tamanho, o diâmetro, a conectividade dos vértices, a conectividade das arestas, a média dos menores caminhos, além de verificar se o grafo é conexo.\n",
    "\n"
   ]
  },
  {
   "cell_type": "code",
   "execution_count": 282,
   "metadata": {
    "id": "TUftZZ7yRijC"
   },
   "outputs": [
    {
     "name": "stdout",
     "output_type": "stream",
     "text": [
      "   Ordem  Tamanho  Tamanho ponderado  Conexo  Menor caminho médio  Diametro\n",
      "0    174      184             7027.0    True            14.416052        39\n"
     ]
    }
   ],
   "source": [
    "# ordem de um grafo- nº de vértices\n",
    "data = {\n",
    "    \"Ordem\" : [G.order()],\n",
    "    \"Tamanho\" : [G.size()],\n",
    "    \"Tamanho ponderado\" : [G.size(weight=\"weight\")],\n",
    "    \"Conexo\" : [nx.is_connected(G)],\n",
    "    \"Menor caminho médio\" : [nx.average_shortest_path_length(G)],\n",
    "    \"Diametro\" : [nx.diameter(G)],\n",
    "}\n",
    "\n",
    "df = pd.DataFrame(data)\n",
    "print(df)"
   ]
  },
  {
   "cell_type": "code",
   "execution_count": 289,
   "metadata": {},
   "outputs": [
    {
     "name": "stdout",
     "output_type": "stream",
     "text": [
      "['Jundiaí', 'Varginha']\n",
      "['Jundiaí', 'Várzea Paulista', 'Campo Limpo Paulista', 'Botujuru', 'Francisco Morato', 'Baltazar Fidélis', 'Franco da Rocha', 'Caieiras', 'Perus', 'Vila Aurora', 'Jaraguá', 'Vila Clarice', 'Pirituba', 'Piqueri', 'Lapa R', 'Agua Branca', 'Palmeiras-Barra Funda', 'Lapa D', 'Domingos Moraes', 'Imperatriz Leopoldina', 'Presidente Altino', 'Ceasa', 'Villa Lobos–Jaguaré', 'Cidade Universitária', 'Pinheiros', 'Hebraica–Rebouças', 'Cidade Jardim', 'Vila Olímpia', 'Berrini', 'Morumbi', 'Granja Julieta', 'João Dias', 'Santo Amaro', 'Socorro', 'Jurubatuba', 'Autódromo', 'Primavera–Interlagos', 'Grajaú', 'Bruno Covas/Mendes–Vila Natal', 'Varginha']\n"
     ]
    }
   ],
   "source": [
    "exc = nx.eccentricity(G)\n",
    "max_dist = [key for key, value in sorted(exc.items(), key=lambda x: x[1], reverse=True)[:2]]\n",
    "\n",
    "\n",
    "df_exc = pd.DataFrame(list(exc.items()), columns=[\"Node\", \"Eccentricity\"]).sort_values(by=\"Eccentricity\")\n",
    "\n",
    "path = nx.shortest_path(G, source = max_dist[0], target = max_dist[1] , weight=\"weight\")\n",
    "print(max_dist)\n",
    "print(path)"
   ]
  },
  {
   "cell_type": "markdown",
   "metadata": {},
   "source": [
    "![LP](Figures/MetroSP2024LongestPath.png)"
   ]
  },
  {
   "cell_type": "markdown",
   "metadata": {
    "id": "sYpseGw4vL0D"
   },
   "source": [
    "## Análise de centralidade de grau"
   ]
  },
  {
   "cell_type": "code",
   "execution_count": 285,
   "metadata": {
    "id": "uNZ83asBB0zL"
   },
   "outputs": [
    {
     "name": "stdout",
     "output_type": "stream",
     "text": [
      "{'Jabaquara': 0.005780346820809248, 'Conceição': 0.011560693641618497, 'São Judas': 0.011560693641618497, 'Saúde': 0.011560693641618497, 'Praça da Árvore': 0.011560693641618497, 'Santa Cruz': 0.023121387283236993, 'Vila Mariana': 0.011560693641618497, 'Ana Rosa': 0.017341040462427744, 'Paraíso': 0.017341040462427744, 'Vergueiro': 0.011560693641618497, 'São Joaquim': 0.011560693641618497, 'Liberdade': 0.011560693641618497, 'Sé': 0.023121387283236993, 'São Bento': 0.011560693641618497, 'Luz': 0.028901734104046242, 'Tiradentes': 0.011560693641618497, 'Armênia': 0.011560693641618497, 'Portuguesa-Tietê': 0.011560693641618497, 'Carandiru': 0.011560693641618497, 'Santana': 0.011560693641618497, 'Jardim São Paulo-Ayrton Senna': 0.011560693641618497, 'Parada Inglesa': 0.011560693641618497, 'Tucuruvi': 0.005780346820809248, 'Vila Madalena': 0.005780346820809248, 'Santuário Nossa Senhora de Fátima-Sumaré': 0.011560693641618497, 'Clínicas': 0.011560693641618497, 'Paulista-Consolação': 0.023121387283236993, 'Trianon-Masp': 0.011560693641618497, 'Brigadeiro': 0.011560693641618497, 'Chácara Klabin': 0.017341040462427744, 'Santos-Imigrantes': 0.011560693641618497, 'Alto do Ipiranga': 0.011560693641618497, 'Sacoma': 0.011560693641618497, 'Tamanduatei': 0.023121387283236993, 'Vila Prudente': 0.011560693641618497, 'Palmeiras-Barra Funda': 0.028901734104046242, 'Marechal Deodoro': 0.011560693641618497, 'Santa Cecília': 0.011560693641618497, 'República': 0.023121387283236993, 'Anhangabaú': 0.011560693641618497, 'Pedro II': 0.011560693641618497, 'Brás': 0.028901734104046242, 'Bresser-Mooca': 0.011560693641618497, 'Belém': 0.011560693641618497, 'Tatuapé': 0.028901734104046242, 'Carrão-Assaí Atacadista': 0.011560693641618497, 'Penha': 0.011560693641618497, 'Vila Matilde': 0.011560693641618497, 'Guilhermina-Esperança': 0.011560693641618497, 'Patriarca': 0.011560693641618497, 'Artur Alvim': 0.011560693641618497, 'Corinthians-Itaquera': 0.017341040462427744, 'Higienópolis-Mackenzie': 0.011560693641618497, 'Oscar Freire': 0.011560693641618497, 'Fradique Coutinho': 0.011560693641618497, 'Faria Lima': 0.011560693641618497, 'Pinheiros': 0.023121387283236993, 'Butantã': 0.011560693641618497, 'São Paulo-Morumbi': 0.011560693641618497, 'Vila Sônia': 0.005780346820809248, 'Capão Redondo': 0.005780346820809248, 'Campo Limpo': 0.011560693641618497, 'Vila das Belezas': 0.011560693641618497, 'Giovanni Gronchi': 0.011560693641618497, 'Santo Amaro': 0.023121387283236993, 'Largo Treze': 0.011560693641618497, 'Adolfo Pinheiro': 0.011560693641618497, 'Alto da Boa Vista': 0.011560693641618497, 'Borba Gato': 0.011560693641618497, 'Brooklin': 0.011560693641618497, 'Campo Belo': 0.011560693641618497, 'Eucaliptos': 0.011560693641618497, 'Moema': 0.011560693641618497, 'AACD-Servidor': 0.011560693641618497, 'Hospital São Paulo': 0.011560693641618497, 'Agua Branca': 0.011560693641618497, 'Lapa R': 0.011560693641618497, 'Piqueri': 0.011560693641618497, 'Pirituba': 0.011560693641618497, 'Vila Clarice': 0.011560693641618497, 'Jaraguá': 0.011560693641618497, 'Vila Aurora': 0.011560693641618497, 'Perus': 0.011560693641618497, 'Caieiras': 0.011560693641618497, 'Franco da Rocha': 0.011560693641618497, 'Baltazar Fidélis': 0.011560693641618497, 'Francisco Morato': 0.011560693641618497, 'Botujuru': 0.011560693641618497, 'Campo Limpo Paulista': 0.011560693641618497, 'Várzea Paulista': 0.011560693641618497, 'Jundiaí': 0.005780346820809248, 'Armador Bueno': 0.005780346820809248, 'Santa Rita': 0.011560693641618497, 'Itapevi': 0.011560693641618497, 'Eng Cardoso': 0.011560693641618497, 'Sangrado Coração': 0.011560693641618497, 'Jandira': 0.011560693641618497, 'Jardim Silveira': 0.011560693641618497, 'Jardim Belval': 0.011560693641618497, 'Barueri': 0.011560693641618497, 'Antonio João': 0.011560693641618497, 'Santa Terezinha': 0.011560693641618497, 'Carapicuiba': 0.011560693641618497, 'General Miguel Costa': 0.011560693641618497, 'Quitauna': 0.011560693641618497, 'Comandante Sampaio': 0.011560693641618497, 'Osasco': 0.011560693641618497, 'Presidente Altino': 0.017341040462427744, 'Imperatriz Leopoldina': 0.011560693641618497, 'Domingos Moraes': 0.011560693641618497, 'Lapa D': 0.011560693641618497, 'Julio Prestes': 0.005780346820809248, 'Ceasa': 0.011560693641618497, 'Villa Lobos–Jaguaré': 0.011560693641618497, 'Cidade Universitária': 0.011560693641618497, 'Hebraica–Rebouças': 0.011560693641618497, 'Cidade Jardim': 0.011560693641618497, 'Vila Olímpia': 0.011560693641618497, 'Berrini': 0.011560693641618497, 'Morumbi': 0.011560693641618497, 'Granja Julieta': 0.011560693641618497, 'João Dias': 0.011560693641618497, 'Socorro': 0.011560693641618497, 'Jurubatuba': 0.011560693641618497, 'Autódromo': 0.011560693641618497, 'Primavera–Interlagos': 0.011560693641618497, 'Grajaú': 0.011560693641618497, 'Bruno Covas/Mendes–Vila Natal': 0.011560693641618497, 'Varginha': 0.005780346820809248, 'Juventude–Mooca': 0.011560693641618497, 'Ipiranga': 0.011560693641618497, 'São Caetano': 0.011560693641618497, 'Utinga': 0.011560693641618497, 'Prefeito Saladino': 0.011560693641618497, 'Santo André': 0.011560693641618497, 'Capuava': 0.011560693641618497, 'Mauá': 0.011560693641618497, 'Guapituba': 0.011560693641618497, 'Ribeirão Pires': 0.011560693641618497, 'Rio Grande da Serra': 0.005780346820809248, 'Dom Bosco': 0.011560693641618497, 'José Bonifácio': 0.011560693641618497, 'Guaianases': 0.011560693641618497, 'Antonio Gianetti Neto': 0.011560693641618497, 'Ferraz de Vasconcelos': 0.011560693641618497, 'Poá': 0.011560693641618497, 'Calmon Viana': 0.017341040462427744, 'Suzano': 0.011560693641618497, 'Jundiapeba': 0.011560693641618497, 'Bras Cubas': 0.011560693641618497, 'Mogi das Cruzes': 0.011560693641618497, 'Estudantes': 0.005780346820809248, 'Engenheiro Goulart': 0.017341040462427744, 'USP Leste': 0.011560693641618497, 'Comendador Ermelino': 0.011560693641618497, 'São Miguel Paulista': 0.011560693641618497, 'Jardim Helena-Vila Mara': 0.011560693641618497, 'Itaim Paulista': 0.011560693641618497, 'Jardim Romano': 0.011560693641618497, 'Engenheiro Manoel Feio': 0.011560693641618497, 'Itaquaquecetuba': 0.011560693641618497, 'Aracaré': 0.011560693641618497, 'Guarulhos–Cecap': 0.011560693641618497, 'Aeroporto-Guarulhos': 0.005780346820809248, 'Oratório': 0.011560693641618497, 'São Lucas': 0.011560693641618497, 'Camilo Haddad': 0.011560693641618497, 'Vila Tolstói': 0.011560693641618497, 'Vila União': 0.011560693641618497, 'Jardim Planalto': 0.011560693641618497, 'Sapopemba': 0.011560693641618497, 'Fazenda da Juta': 0.011560693641618497, 'São Mateus': 0.011560693641618497, 'Jardim Colonial': 0.005780346820809248}\n",
      "('Luz', 0.028901734104046242)\n"
     ]
    }
   ],
   "source": [
    "deg_centrality = nx.degree_centrality(G)\n",
    "\n",
    "print(deg_centrality)\n",
    "centrality_sorted = ((sorted(deg_centrality.items(), key=lambda item: item[1],reverse=True)))\n",
    "print(centrality_sorted[0]) # vertice com maior centralidade de grau [relativa]\n"
   ]
  },
  {
   "cell_type": "code",
   "execution_count": 286,
   "metadata": {
    "id": "QDiAZX3LWB_F"
   },
   "outputs": [
    {
     "data": {
      "image/png": "[encoded data removed]",
      "text/plain": [
       "<Figure size 640x480 with 1 Axes>"
      ]
     },
     "metadata": {},
     "output_type": "display_data"
    }
   ],
   "source": [
    "degree_sequence = sorted((d for n, d in G.degree()), reverse=True)\n",
    "dmax = max(degree_sequence)\n",
    "plt.bar(*np.unique(degree_sequence, return_counts=True))\n",
    "plt.title(\"Distribuição de graus\")\n",
    "plt.xlabel(\"Grau\")\n",
    "plt.ylabel(\"Quantidade\")\n",
    "plt.show()"
   ]
  },
  {
   "cell_type": "markdown",
   "metadata": {
    "id": "Rf228VmRoS7Z"
   },
   "source": [
    "# Estudo de vunerabilidade"
   ]
  },
  {
   "cell_type": "markdown",
   "metadata": {
    "id": "J4qzqA6f3pWS"
   },
   "source": [
    "Agora iremos analisar a vunerabilidade do sistema em relação as falhas de uma estação. Para isso, iremos nos basear nas informações de [12] que lista o número de passageiros diários por estação. Primeiramente,  analisaremos características como se o grafo é conexo, diâmetro e média dos menores caminhos para o grafo original. Em seguida, vamos analisar as mesmas métricas quando uma das 10 estações com maior número de passageiros é removida do grafo."
   ]
  },
  {
   "cell_type": "code",
   "execution_count": 287,
   "metadata": {
    "id": "IQ4FqaBh8-yc"
   },
   "outputs": [],
   "source": [
    "G_temp = G.copy()"
   ]
  },
  {
   "cell_type": "markdown",
   "metadata": {
    "id": "I6cPP0Kn2hUk"
   },
   "source": [
    "Calculamos a média dos menores caminhos do grafo original para termos como referência."
   ]
  },
  {
   "cell_type": "code",
   "execution_count": 288,
   "metadata": {
    "id": "iXx_hKe_-XhE"
   },
   "outputs": [
    {
     "data": {
      "text/plain": [
       "14.416052089562156"
      ]
     },
     "execution_count": 288,
     "metadata": {},
     "output_type": "execute_result"
    }
   ],
   "source": [
    "nx.average_shortest_path_length(G)"
   ]
  },
  {
   "cell_type": "markdown",
   "metadata": {
    "id": "Ci3zu2E36UP_"
   },
   "source": [
    "# Análise de expansão da rede"
   ]
  },
  {
   "cell_type": "markdown",
   "metadata": {
    "id": "dGZ3GPZX6ZE1"
   },
   "source": [
    "Agora iremos analisar o grafo assumindo três expanções do sistema, a adição da linha laranja, da expanssão da linha verde e a adição da linha ouro."
   ]
  },
  {
   "cell_type": "markdown",
   "metadata": {
    "id": "IFvRpyIrn24n"
   },
   "source": [
    "#Referências"
   ]
  },
  {
   "cell_type": "markdown",
   "metadata": {
    "id": "0Cqf28Ndn2Un"
   },
   "source": [
    "1. https://transparencia.metrosp.com.br/dataset/demanda/resource/e69866e9-6c7a-424f-ad4d-816c6b96b1c4\n",
    "2. https://www.viamobilidade.com.br/nos/passageiros-transportados/linha-9-esmeralda\n",
    "3. https://www.viamobilidade.com.br/nos/passageiros-transportados/linha-8-diamante\n",
    "4. https://www.viamobilidade.com.br/nos/passageiros-transportados/linha-5-lilas\n",
    "5. https://www.viaquatro.com.br/linha-4-amarela/passageiros-transportados\n"
   ]
  }
 ],
 "metadata": {
  "colab": {
   "collapsed_sections": [
    "vOUjTzrYO3c9",
    "zTtOcbk1Q-JM",
    "3D4aLwE7SjmQ",
    "iPwa9sQcTT5e",
    "oh_0ypooUZcI",
    "L1pEgoqDU6iw",
    "N90I2CRdVvLh",
    "t2Q7p2uG_NNK",
    "-usERp_CXUwq",
    "_dFgHCGjN7-6"
   ],
   "provenance": [],
   "toc_visible": true
  },
  "kernelspec": {
   "display_name": "Python 3",
   "name": "python3"
  },
  "language_info": {
   "codemirror_mode": {
    "name": "ipython",
    "version": 3
   },
   "file_extension": ".py",
   "mimetype": "text/x-python",
   "name": "python",
   "nbconvert_exporter": "python",
   "pygments_lexer": "ipython3",
   "version": "3.10.12"
  }
 },
 "nbformat": 4,
 "nbformat_minor": 0
}
