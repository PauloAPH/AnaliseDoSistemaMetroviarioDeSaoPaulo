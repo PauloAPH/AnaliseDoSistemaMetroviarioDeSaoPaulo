{
 "cells": [
  {
   "cell_type": "markdown",
   "metadata": {
    "id": "Vw_b3iVGl_9w"
   },
   "source": [
    "## **Análise do Sistema Metroviário DE São Paulo**\n"
   ]
  },
  {
   "cell_type": "markdown",
   "metadata": {
    "id": "-_WW84GRb4jP"
   },
   "source": [
    "## **Resumo**"
   ]
  },
  {
   "cell_type": "markdown",
   "metadata": {
    "id": "Q2BmgaTrEJEL"
   },
   "source": [
    "<div style=\"text-align: justify;\">\n",
    "Este projeto tem como objetivo analisar o sistema metroviário de São Paulo, considerando o sistema de metro e trens, as informações foram retiradas do portal de transparencia das empresas Metro, CPTM, ViaQuatro e Linha Mobilidade,\n",
    "O grafo consiste das estações de 5 linhas do metrô de São Paulo (Azul, Verde, Vermelha, Amarela, Lilás e Prata) e 7 linhas de trem (Rubi, Diamante, Esmeralda, Turquesa, Coral, Safira e Jade), onde cada estação será um representada por um vértice e as conexões entre estações representadas por arestas com pesos dado pela diferença de passageiros entre as duas estações.\n",
    "</div>"
   ]
  },
  {
   "cell_type": "markdown",
   "metadata": {
    "id": "_H41nWTwlVFn"
   },
   "source": [
    "## **Modelagem**\n"
   ]
  },
  {
   "cell_type": "markdown",
   "metadata": {
    "id": "B13bB_84eizG"
   },
   "source": [
    "<div style=\"text-align: justify;\">\n",
    "O grafo foi modelado da seguinte forma: cada estação do metrô de São Paulo foi representada por um vértice e as conexões, entre cada par de estações, foram representadas por arestas, o sistema de ponderação das arestas é explica na sequência. Os dados do projeto foram coletados através do site e portais de transparencia do Metro de SP (https://transparencia.metrosp.com.br/dataset/demanda/resource/e69866e9-6c7a-424f-ad4d-816c6b96b1c4) CPTM, Via Mobilidade e ViaQuatro. Após a criação do grafo base, adicionamos ao grafo as estações de cada linha sequencialmente, tomando cuidado para não acrescentar a mesma estação duas vezes caso ela esteja presente em mais de uma linha.\n",
    "<div>"
   ]
  },
  {
   "cell_type": "markdown",
   "metadata": {
    "id": "S34Ky7jIlkqH"
   },
   "source": [
    "**Importando bibliotecas necessárias**"
   ]
  },
  {
   "cell_type": "code",
   "execution_count": 202,
   "metadata": {
    "id": "VBQJdFeEOO72"
   },
   "outputs": [],
   "source": [
    "import numpy as np\n",
    "import pandas as pd\n",
    "import networkx as nx\n",
    "import matplotlib.pyplot as plt\n",
    "from scipy.optimize import curve_fit\n",
    "from scipy.stats import expon\n",
    "from matplotlib.pyplot import figure"
   ]
  },
  {
   "cell_type": "markdown",
   "metadata": {},
   "source": [
    "## Estatistica para cálculos dos pesos das arestas"
   ]
  },
  {
   "cell_type": "markdown",
   "metadata": {},
   "source": [
    "O peso das arestas foi baseado na demanda por passageiros de cada estação. Os dados foram coletados de (1, 2, 3) sendo todos colocados como a média diaria por milhares de passageiros. O peso entre aresta A e B é a diferença da demanda entre as duas estações."
   ]
  },
  {
   "cell_type": "code",
   "execution_count": 203,
   "metadata": {},
   "outputs": [],
   "source": [
    "linha_azul = pd.read_csv('Dados/Metro/Linha_Azul.csv', sep=';')\n",
    "linha_verde = pd.read_csv('Dados/Metro/Linha_Verde.csv', sep=';')\n",
    "linha_vermelha = pd.read_csv('Dados/Metro/Linha_Vermelha.csv', sep=';')\n",
    "linha_amarela = pd.read_csv('Dados/Metro/Linha_Amarela.csv', sep=';')\n",
    "linha_lilas = pd.read_csv('Dados/Metro/Linha_Lilas.csv', sep=';')\n",
    "linha_rubi = pd.read_csv('Dados/Metro/Linha_Rubi.csv', sep=';')\n",
    "linha_diamante = pd.read_csv('Dados/Metro/Linha_Diamante.csv', sep=';')\n",
    "linha_esmeralda = pd.read_csv('Dados/Metro/Linha_Esmeralda.csv', sep=';')\n",
    "linha_turquesa = pd.read_csv('Dados/Metro/Linha_Turquesa.csv', sep=';')\n",
    "linha_coral = pd.read_csv('Dados/Metro/Linha_Coral.csv', sep=';')\n",
    "linha_safira = pd.read_csv('Dados/Metro/Linha_Safira.csv', sep=';')\n",
    "linha_jade = pd.read_csv('Dados/Metro/Linha_Jade.csv', sep=';')\n",
    "linha_prata = pd.read_csv('Dados/Metro/Linha_Prata.csv', sep=';')"
   ]
  },
  {
   "cell_type": "code",
   "execution_count": 204,
   "metadata": {},
   "outputs": [],
   "source": [
    "linha_azul = linha_azul.drop(columns=['Jan', 'Fev', 'Mar',\t'Abr', 'Mai', 'Jun', 'Jul',\t'Ago', 'Set', 'Out', 'Nov', 'Dez'])\n",
    "\n",
    "linha_verde = linha_verde.drop(columns=['Jan', 'Fev', 'Mar', 'Abr', 'Mai', 'Jun', 'Jul', 'Ago', 'Set', 'Out', 'Nov', 'Dez'])\n",
    "\n",
    "linha_vermelha = linha_vermelha.drop(columns=['Jan', 'Fev', 'Mar', 'Abr', 'Mai', 'Jun', 'Jul',\t'Ago', 'Set', 'Out', 'Nov', 'Dez'])\n",
    "\n",
    "linha_prata = linha_prata.drop(columns=['Jan', 'Fev', 'Mar', 'Abr', 'Mai', 'Jun', 'Jul', 'Ago', 'Set', 'Out', 'Nov', 'Dez'])\n"
   ]
  },
  {
   "cell_type": "code",
   "execution_count": 205,
   "metadata": {},
   "outputs": [],
   "source": [
    "linha_rubi['Media'] = pd.to_numeric(linha_rubi['Media'], errors='coerce')\n",
    "linha_rubi['Media'] = linha_rubi['Media']/31000\n",
    "\n",
    "linha_turquesa['Media'] = pd.to_numeric(linha_turquesa['Media'], errors='coerce')\n",
    "linha_turquesa['Media'] = linha_turquesa['Media']/31000\n",
    "\n",
    "linha_coral['Media'] = pd.to_numeric(linha_coral['Media'], errors='coerce')\n",
    "linha_coral['Media'] = linha_coral['Media']/31000\n",
    "\n",
    "linha_safira['Media'] = pd.to_numeric(linha_safira['Media'], errors='coerce')\n",
    "linha_safira['Media'] = linha_safira['Media']/31000\n",
    "\n",
    "linha_jade['Media'] = pd.to_numeric(linha_jade['Media'], errors='coerce')\n",
    "linha_jade['Media'] = linha_jade['Media']/31000"
   ]
  },
  {
   "cell_type": "code",
   "execution_count": 206,
   "metadata": {},
   "outputs": [],
   "source": [
    "linha_azul['Difference'] = linha_azul['Media'].diff().abs()\n",
    "linha_verde['Difference'] = linha_verde['Media'].diff().abs()\n",
    "linha_vermelha['Difference'] = linha_vermelha['Media'].diff().abs()\n",
    "linha_amarela['Difference'] = linha_amarela['Media'].diff().abs()\n",
    "linha_lilas['Difference'] = linha_lilas['Media'].diff().abs()\n",
    "linha_rubi['Difference'] = linha_rubi['Media'].diff().abs()\n",
    "linha_diamante['Difference'] = linha_diamante['Media'].diff().abs()\n",
    "linha_esmeralda['Difference'] = linha_esmeralda['Media'].diff().abs()\n",
    "linha_turquesa['Difference'] = linha_turquesa['Media'].diff().abs()\n",
    "linha_coral['Difference'] = linha_coral['Media'].diff().abs()\n",
    "linha_safira['Difference'] = linha_safira['Media'].diff().abs()\n",
    "linha_jade['Difference'] = linha_jade['Media'].diff().abs()\n",
    "linha_prata['Difference'] = linha_prata['Media'].diff().abs()"
   ]
  },
  {
   "cell_type": "markdown",
   "metadata": {
    "id": "JbBsVf11lolN"
   },
   "source": [
    "**Criando o grafo G**"
   ]
  },
  {
   "cell_type": "code",
   "execution_count": 207,
   "metadata": {
    "id": "bwJpiBhtln5n"
   },
   "outputs": [],
   "source": [
    "G = nx.Graph()"
   ]
  },
  {
   "cell_type": "markdown",
   "metadata": {
    "id": "gOWI-nhRN17d"
   },
   "source": [
    "## **Adicionando vértices**"
   ]
  },
  {
   "cell_type": "markdown",
   "metadata": {
    "id": "vOUjTzrYO3c9"
   },
   "source": [
    "### Linha 1 Azul\n"
   ]
  },
  {
   "cell_type": "code",
   "execution_count": 208,
   "metadata": {
    "id": "9NVruBXFO3tj"
   },
   "outputs": [],
   "source": [
    "G.add_nodes_from([\"Jabaquara\", \"Conceição\", \"São Judas\", \"Saúde\", \"Praça da Árvore\", \"Santa Cruz\", \"Vila Mariana\", \"Ana Rosa\", \"Paraíso\", \"Vergueiro\", \"São Joaquim\", \"Liberdade\", \"Sé\", \"São Bento\", \"Luz\", \"Tiradentes\", \"Armênia\", \"Portuguesa-Tietê\", \"Carandiru\", \"Santana\", \"Jardim São Paulo-Ayrton Senna\", \"Parada Inglesa\", \"Tucuruvi\"])"
   ]
  },
  {
   "cell_type": "code",
   "execution_count": 209,
   "metadata": {
    "colab": {
     "background_save": true
    },
    "id": "PIy8-oiCwDJ6"
   },
   "outputs": [],
   "source": [
    "G.add_weighted_edges_from([(\"Jabaquara\", \"Conceição\", 39.00), (\"Conceição\", \"São Judas\", 14), (\"São Judas\", \"Saúde\", 11), (\"Saúde\", \"Praça da Árvore\", 11), (\"Praça da Árvore\", \"Santa Cruz\", 78), (\"Santa Cruz\", \"Vila Mariana\", 73), (\"Vila Mariana\", \"Ana Rosa\", 57), (\"Ana Rosa\", \"Paraíso\", 19), (\"Paraíso\", \"Vergueiro\", 70), (\"Vergueiro\", \"São Joaquim\", 3), (\"São Joaquim\", \"Liberdade\", 8), (\"Liberdade\", \"Sé\", 148), (\"Sé\", \"São Bento\", 118), (\"São Bento\", \"Luz\", 78), (\"Luz\", \"Tiradentes\", 114), (\"Tiradentes\", \"Armênia\", 4), (\"Armênia\", \"Portuguesa-Tietê\", 25), (\"Portuguesa-Tietê\", \"Carandiru\", 33), (\"Carandiru\", \"Santana\", 37), (\"Santana\", \"Jardim São Paulo-Ayrton Senna\", 37), (\"Jardim São Paulo-Ayrton Senna\", \"Parada Inglesa\", 2), (\"Parada Inglesa\", \"Tucuruvi\", 42)])"
   ]
  },
  {
   "cell_type": "markdown",
   "metadata": {
    "id": "zTtOcbk1Q-JM"
   },
   "source": [
    "### Linha 2 Verde\n"
   ]
  },
  {
   "cell_type": "code",
   "execution_count": 210,
   "metadata": {
    "id": "sxYv93ymRCpk"
   },
   "outputs": [],
   "source": [
    "G.add_nodes_from([\"Vila Madalena\", \"Santuário Nossa Senhora de Fátima-Sumaré\", \"Clínicas\", \"Paulista-Consolação\", \"Trianon-Masp\", \"Brigadeiro\", \"Paraíso\", \"Ana Rosa\", \"Chácara Klabin\", \"Santos-Imigrantes\", \"Alto do Ipiranga\", \"Sacoma\", \"Tamanduatei\", \"Vila Prudente\"],)"
   ]
  },
  {
   "cell_type": "code",
   "execution_count": 211,
   "metadata": {
    "colab": {
     "background_save": true
    },
    "id": "v0tr0Iz6bTQl"
   },
   "outputs": [],
   "source": [
    "G.add_weighted_edges_from([(\"Vila Madalena\", \"Santuário Nossa Senhora de Fátima-Sumaré\", 11), (\"Santuário Nossa Senhora de Fátima-Sumaré\", \"Clínicas\", 11), (\"Clínicas\", \"Paulista-Consolação\", 76), (\"Paulista-Consolação\", \"Trianon-Masp\", 51), (\"Trianon-Masp\", \"Brigadeiro\", 3), (\"Brigadeiro\", \"Paraíso\", 13), (\"Paraíso\", \"Ana Rosa\", 3), (\"Ana Rosa\", \"Chácara Klabin\", 23), (\"Chácara Klabin\", \"Santos-Imigrantes\", 67), (\"Santos-Imigrantes\", \"Alto do Ipiranga\", 3), (\"Alto do Ipiranga\", \"Sacoma\", 22), (\"Sacoma\", \"Tamanduatei\", 34), (\"Tamanduatei\", \"Vila Prudente\", 2)])"
   ]
  },
  {
   "cell_type": "markdown",
   "metadata": {
    "id": "3D4aLwE7SjmQ"
   },
   "source": [
    "### Linha 3 Vermelha"
   ]
  },
  {
   "cell_type": "code",
   "execution_count": 212,
   "metadata": {
    "colab": {
     "background_save": true
    },
    "id": "1ZThsYdBSkO9"
   },
   "outputs": [],
   "source": [
    "G.add_nodes_from([\"Palmeiras-Barra Funda\", \"Marechal Deodoro\", \"Santa Cecília\", \"República\", \"Anhangabaú\", \"Sé\", \"Pedro II\", \"Brás\", \"Bresser-Mooca\", \"Belém\", \"Tatuapé\", \"Carrão-Assaí Atacadista\", \"Penha\", \"Vila Matilde\", \"Guilhermina-Esperança\", \"Patriarca\", \"Artur Alvim\", \"Corinthians-Itaquera\"])"
   ]
  },
  {
   "cell_type": "code",
   "execution_count": 213,
   "metadata": {
    "colab": {
     "background_save": true
    },
    "id": "fn62TCKe2MWY"
   },
   "outputs": [],
   "source": [
    "G.add_weighted_edges_from([(\"Palmeiras-Barra Funda\", \"Marechal Deodoro\", 109), (\"Marechal Deodoro\", \"Santa Cecília\", 3), (\"Santa Cecília\", \"República\", 96), (\"República\", \"Anhangabaú\", 68), (\"Anhangabaú\", \"Sé\", 149), (\"Sé\", \"Pedro II\", 184), (\"Pedro II\", \"Brás\", 56), (\"Brás\", \"Bresser-Mooca\", 41), (\"Bresser-Mooca\", \"Belém\", 6), (\"Belém\", \"Tatuapé\", 42), (\"Tatuapé\", \"Carrão-Assaí Atacadista\", 31), (\"Carrão-Assaí Atacadista\", \"Penha\", 20), (\"Penha\", \"Vila Matilde\", 1), (\"Vila Matilde\", \"Guilhermina-Esperança\", 5), (\"Guilhermina-Esperança\", \"Patriarca\", 1), (\"Patriarca\", \"Artur Alvim\", 33), (\"Artur Alvim\", \"Corinthians-Itaquera\", 18)])"
   ]
  },
  {
   "cell_type": "markdown",
   "metadata": {
    "id": "iPwa9sQcTT5e"
   },
   "source": [
    "### Linha 4 Amarela"
   ]
  },
  {
   "cell_type": "code",
   "execution_count": 214,
   "metadata": {
    "colab": {
     "background_save": true
    },
    "id": "8zVqax2pTYfG"
   },
   "outputs": [],
   "source": [
    "G.add_nodes_from([\"Luz\", \"República\", \"Higienópolis-Mackenzie\", \"Paulista-Consolação\", \"Oscar Freire\", \"Fradique Coutinho\", \"Faria Lima\", \"Pinheiros\", \"Butantã\", \"São Paulo-Morumbi\", \"Vila Sônia\"])"
   ]
  },
  {
   "cell_type": "code",
   "execution_count": 215,
   "metadata": {
    "colab": {
     "background_save": true
    },
    "id": "Mfo8DmCB3Up4"
   },
   "outputs": [],
   "source": [
    "G.add_weighted_edges_from([(\"Luz\", \"República\", 37), (\"República\", \"Higienópolis-Mackenzie\", 791), (\"Higienópolis-Mackenzie\", \"Paulista-Consolação\", 83), (\"Paulista-Consolação\", \"Oscar Freire\", 86), (\"Oscar Freire\", \"Fradique Coutinho\", 6), (\"Fradique Coutinho\", \"Faria Lima\", 18), (\"Faria Lima\", \"Pinheiros\", 73), (\"Pinheiros\", \"Butantã\", 69), (\"Butantã\", \"São Paulo-Morumbi\", 13), (\"São Paulo-Morumbi\", \"Vila Sônia\", 24)])"
   ]
  },
  {
   "cell_type": "markdown",
   "metadata": {
    "id": "oh_0ypooUZcI"
   },
   "source": [
    "### Linha 5 Lilas"
   ]
  },
  {
   "cell_type": "code",
   "execution_count": 216,
   "metadata": {
    "colab": {
     "background_save": true
    },
    "id": "HRZ-_H7PUdiP"
   },
   "outputs": [],
   "source": [
    "G.add_nodes_from([\"Capão Redondo\", \"Campo Limpo\", \"Vila das Belezas\", \"Giovanni Gronchi\", \"Santo Amaro\", \"Largo Treze\", \"Adolfo Pinheiro\", \"Alto da Boa Vista\", \"Borba Gato\", \"Brooklin\", \"Campo Belo\", \"Eucaliptos\", \"Moema\", \"AACD-Servidor\", \"Hospital São Paulo\", \"Santa Cruz\", \"Chácara Klabin\"])"
   ]
  },
  {
   "cell_type": "code",
   "execution_count": 217,
   "metadata": {
    "colab": {
     "background_save": true
    },
    "id": "Jhdy0fTP4qNI"
   },
   "outputs": [],
   "source": [
    "G.add_weighted_edges_from([(\"Capão Redondo\", \"Campo Limpo\", 58), (\"Campo Limpo\", \"Vila das Belezas\", 23), (\"Vila das Belezas\", \"Giovanni Gronchi\", 8), (\"Giovanni Gronchi\", \"Santo Amaro\", 70), (\"Santo Amaro\", \"Largo Treze\", 58), (\"Largo Treze\", \"Adolfo Pinheiro\", 23), (\"Adolfo Pinheiro\", \"Alto da Boa Vista\", 7), (\"Alto da Boa Vista\", \"Borba Gato\", 6), (\"Borba Gato\", \"Brooklin\", 6), (\"Brooklin\", \"Campo Belo\", 4), (\"Campo Belo\", \"Eucaliptos\", 5), (\"Eucaliptos\", \"Moema\", 2), (\"Moema\", \"AACD-Servidor\", 9), (\"AACD-Servidor\", \"Hospital São Paulo\", 1), (\"Hospital São Paulo\", \"Santa Cruz\", 54), (\"Santa Cruz\", \"Chácara Klabin\", 25)])"
   ]
  },
  {
   "cell_type": "markdown",
   "metadata": {
    "id": "N90I2CRdVvLh"
   },
   "source": [
    "### Linha 7 Rubi"
   ]
  },
  {
   "cell_type": "code",
   "execution_count": 218,
   "metadata": {
    "colab": {
     "background_save": true
    },
    "id": "WTnmFsZmVv-o"
   },
   "outputs": [],
   "source": [
    "G.add_nodes_from([\"Luz\", \"Palmeiras-Barra Funda\", \"Agua Branca\", \"Lapa R\", \"Piqueri\", \"Pirituba\", \"Vila Clarice\", \"Jaraguá\", \"Vila Aurora\", \"Perus\", \"Caieiras\", \"Franco da Rocha\", \"Baltazar Fidélis\", \"Francisco Morato\", \"Botujuru\", \"Campo Limpo Paulista\", \"Várzea Paulista\", \"Jundiaí\"])"
   ]
  },
  {
   "cell_type": "code",
   "execution_count": 219,
   "metadata": {
    "colab": {
     "background_save": true
    },
    "id": "9uhL3xXi5pqg"
   },
   "outputs": [],
   "source": [
    "G.add_weighted_edges_from([(\"Luz\", \"Palmeiras-Barra Funda\", 71), (\"Palmeiras-Barra Funda\", \"Agua Branca\", 104), (\"Agua Branca\", \"Lapa R\", 18), (\"Lapa R\", \"Piqueri\", 7), (\"Piqueri\", \"Pirituba\", 6), (\"Pirituba\", \"Vila Clarice\", 10), (\"Vila Clarice\", \"Jaraguá\", 11), (\"Jaraguá\", \"Vila Aurora\", 6), (\"Vila Aurora\", \"Perus\", 10), (\"Perus\", \"Caieiras\", 8), (\"Caieiras\", \"Franco da Rocha\", 3), (\"Franco da Rocha\", \"Baltazar Fidélis\", 12), (\"Baltazar Fidélis\", \"Francisco Morato\", 13), (\"Francisco Morato\", \"Botujuru\", 36), (\"Botujuru\", \"Campo Limpo Paulista\", 1), (\"Campo Limpo Paulista\", \"Várzea Paulista\", 1), (\"Várzea Paulista\", \"Jundiaí\", 328)])"
   ]
  },
  {
   "cell_type": "markdown",
   "metadata": {},
   "source": [
    "### Linha 8 Diamante"
   ]
  },
  {
   "cell_type": "code",
   "execution_count": 220,
   "metadata": {},
   "outputs": [],
   "source": [
    "G.add_nodes_from([\"Armador Bueno\", \"Santa Rita\", \"Itapevi\", \"Eng Cardoso\", \"Sangrado Coração\", \"Jandira\", \"Jardim Silveira\", \"Jardim Belval\", \"Barueri\", \"Antonio João\", \"Santa Terezinha\", \"Carapicuiba\", \"General Miguel Costa\", \"Quitauna\", \"Comandante Sampaio\", \"Osasco\", \"Presidente Altino\", \"Imperatriz Leopoldina\", \"Domingos Moraes\", \"Lapa D\", \"Palmeiras-Barra Funda\", \"Julio Prestes\"])"
   ]
  },
  {
   "cell_type": "code",
   "execution_count": 221,
   "metadata": {},
   "outputs": [],
   "source": [
    "G.add_weighted_edges_from([(\"Armador Bueno\", \"Santa Rita\", 2), (\"Santa Rita\", \"Itapevi\", 2), (\"Itapevi\", \"Eng Cardoso\", 22), (\"Eng Cardoso\", \"Sangrado Coração\", 19), (\"Sangrado Coração\", \"Jandira\", 7), (\"Jandira\", \"Jardim Silveira\", 6), (\"Jardim Silveira\", \"Jardim Belval\", 3), (\"Jardim Belval\", \"Barueri\", 18), (\"Barueri\", \"Antonio João\", 8), (\"Antonio João\", \"Santa Terezinha\", 12), (\"Santa Terezinha\", \"Carapicuiba\", 23), (\"Carapicuiba\", \"General Miguel Costa\", 11), (\"General Miguel Costa\", \"Quitauna\", 9), (\"Quitauna\", \"Comandante Sampaio\", 4), (\"Comandante Sampaio\", \"Osasco\", 27), (\"Osasco\", \"Presidente Altino\", 29), (\"Presidente Altino\", \"Imperatriz Leopoldina\", 8), (\"Imperatriz Leopoldina\", \"Domingos Moraes\", 2), (\"Domingos Moraes\", \"Lapa D\", 2), (\"Lapa D\", \"Palmeiras-Barra Funda\", 75), (\"Palmeiras-Barra Funda\", \"Julio Prestes\", 91)])"
   ]
  },
  {
   "cell_type": "markdown",
   "metadata": {},
   "source": [
    "### Linha 9 Esmeralda"
   ]
  },
  {
   "cell_type": "code",
   "execution_count": 222,
   "metadata": {},
   "outputs": [],
   "source": [
    "G.add_nodes_from([\"Osasco\", \"Presidente Altino\", \"Ceasa\", \"Villa Lobos–Jaguaré\", \"Cidade Universitária\", \"Pinheiros\", \"Hebraica–Rebouças\", \"Cidade Jardim\", \"Vila Olímpia\", \"Berrini\", \"Morumbi\", \"Granja Julieta\", \"João Dias\", \"Santo Amaro\", \"Socorro\", \"Jurubatuba\", \"Autódromo\", \"Primavera–Interlagos\", \"Grajaú\", \"Bruno Covas/Mendes–Vila Natal\", \"Varginha\"])"
   ]
  },
  {
   "cell_type": "code",
   "execution_count": 223,
   "metadata": {},
   "outputs": [],
   "source": [
    "G.add_weighted_edges_from([(\"Osasco\", \"Presidente Altino\", 13), (\"Presidente Altino\", \"Ceasa\", 2), (\"Ceasa\", \"Villa Lobos–Jaguaré\", 6), (\"Villa Lobos–Jaguaré\", \"Cidade Universitária\", 5), (\"Cidade Universitária\", \"Pinheiros\", 98), (\"Pinheiros\", \"Hebraica–Rebouças\", 96), (\"Hebraica–Rebouças\", \"Cidade Jardim\", 6), (\"Cidade Jardim\", \"Vila Olímpia\", 15), (\"Vila Olímpia\", \"Berrini\", 12), (\"Berrini\", \"Morumbi\", 4), (\"Morumbi\", \"Granja Julieta\", 10), (\"Granja Julieta\", \"João Dias\", 5), (\"João Dias\", \"Santo Amaro\", 79), (\"Santo Amaro\", \"Socorro\", 77), (\"Socorro\", \"Jurubatuba\", 4), (\"Jurubatuba\", \"Autódromo\", 4), (\"Autódromo\", \"Primavera–Interlagos\", 5), (\"Primavera–Interlagos\", \"Grajaú\", 30), (\"Grajaú\", \"Bruno Covas/Mendes–Vila Natal\", 13), (\"Bruno Covas/Mendes–Vila Natal\", \"Varginha\", 33)])"
   ]
  },
  {
   "cell_type": "markdown",
   "metadata": {
    "id": "t2Q7p2uG_NNK"
   },
   "source": [
    "### Linha 10 Turquesa"
   ]
  },
  {
   "cell_type": "code",
   "execution_count": 224,
   "metadata": {
    "colab": {
     "background_save": true
    },
    "id": "Ts2CuWryWKcI"
   },
   "outputs": [],
   "source": [
    "G.add_nodes_from([\"Luz\", \"Brás\", \"Juventude–Mooca\", \"Ipiranga\", \"Tamanduatei\", \"São Caetano\", \"Utinga\", \"Prefeito Saladino\", \"Santo André\", \"Capuava\", \"Mauá\", \"Guapituba\", \"Ribeirão Pires\", \"Rio Grande da Serra\"])"
   ]
  },
  {
   "cell_type": "code",
   "execution_count": 225,
   "metadata": {},
   "outputs": [],
   "source": [
    "G.add_weighted_edges_from([(\"Luz\", \"Brás\", 22), (\"Brás\", \"Juventude–Mooca\", 17), (\"Juventude–Mooca\", \"Ipiranga\", 1), (\"Ipiranga\", \"Tamanduatei\", 46), (\"Tamanduatei\", \"São Caetano\", 33), (\"São Caetano\", \"Utinga\", 16), (\"Utinga\", \"Prefeito Saladino\", 1), (\"Prefeito Saladino\", \"Santo André\", 37), (\"Santo André\", \"Capuava\", 38), (\"Capuava\", \"Mauá\", 1), (\"Mauá\", \"Guapituba\", 32), (\"Guapituba\", \"Ribeirão Pires\", 6), (\"Ribeirão Pires\", \"Rio Grande da Serra\", 5)])"
   ]
  },
  {
   "cell_type": "markdown",
   "metadata": {
    "id": "-usERp_CXUwq"
   },
   "source": [
    "### Linha 11 Coral"
   ]
  },
  {
   "cell_type": "code",
   "execution_count": 226,
   "metadata": {
    "colab": {
     "background_save": true
    },
    "id": "DUYsJ_O_PDSt"
   },
   "outputs": [],
   "source": [
    "G.add_nodes_from([\"Luz\", \"Brás\", \"Tatuapé\", \"Corinthians-Itaquera\", \"Dom Bosco\", \"José Bonifácio\", \"Guaianases\", \"Antonio Gianetti Neto\", \"Ferraz de Vasconcelos\", \"Poá\", \"Calmon Viana\", \"Suzano\", \"Jundiapeba\", \"Bras Cubas\", \"Mogi das Cruzes\", \"Estudantes\"])"
   ]
  },
  {
   "cell_type": "code",
   "execution_count": 227,
   "metadata": {},
   "outputs": [],
   "source": [
    "G.add_weighted_edges_from([(\"Luz\", \"Brás\", 22), (\"Brás\", \"Tatuapé\", 34), (\"Tatuapé\", \"Corinthians-Itaquera\", 31), (\"Corinthians-Itaquera\", \"Dom Bosco\", 20), (\"Dom Bosco\", \"José Bonifácio\", 1), (\"José Bonifácio\", \"Guaianases\", 594), (\"Guaianases\", \"Antonio Gianetti Neto\", 597), (\"Antonio Gianetti Neto\", \"Ferraz de Vasconcelos\", 10), (\"Ferraz de Vasconcelos\", \"Poá\", 11), (\"Poá\", \"Calmon Viana\", 5), (\"Calmon Viana\", \"Suzano\", 26), (\"Suzano\", \"Jundiapeba\", 25), (\"Jundiapeba\", \"Bras Cubas\", 1), (\"Bras Cubas\", \"Mogi das Cruzes\", 3), (\"Mogi das Cruzes\", \"Estudantes\", 3)])"
   ]
  },
  {
   "cell_type": "markdown",
   "metadata": {},
   "source": [
    "### Linha 12 Safira"
   ]
  },
  {
   "cell_type": "code",
   "execution_count": 228,
   "metadata": {},
   "outputs": [],
   "source": [
    "G.add_nodes_from([\"Brás\", \"Tatuapé\", \"Engenheiro Goulart\", \"USP Leste\", \"Comendador Ermelino\", \"São Miguel Paulista\", \"Jardim Helena-Vila Mara\", \"Itaim Paulista\", \"Jardim Romano\", \"Engenheiro Manoel Feio\", \"Itaquaquecetuba\", \"Aracaré\", \"Calmon Viana\"])"
   ]
  },
  {
   "cell_type": "code",
   "execution_count": 229,
   "metadata": {},
   "outputs": [],
   "source": [
    "G.add_weighted_edges_from([(\"Brás\", \"Tatuapé\", 19), (\"Tatuapé\", \"Engenheiro Goulart\", 16), (\"Engenheiro Goulart\", \"USP Leste\", 1), (\"USP Leste\", \"Comendador Ermelino\", 2), (\"Comendador Ermelino\", \"São Miguel Paulista\", 7), (\"São Miguel Paulista\", \"Jardim Helena-Vila Mara\", 1), (\"Jardim Helena-Vila Mara\", \"Itaim Paulista\", 12), (\"Itaim Paulista\", \"Jardim Romano\", 10), (\"Jardim Romano\", \"Engenheiro Manoel Feio\", 8), (\"Engenheiro Manoel Feio\", \"Itaquaquecetuba\", 7), (\"Itaquaquecetuba\", \"Aracaré\", 10), (\"Aracaré\", \"Calmon Viana\", 4)])"
   ]
  },
  {
   "cell_type": "markdown",
   "metadata": {},
   "source": [
    "### Linha 13 Jade"
   ]
  },
  {
   "cell_type": "code",
   "execution_count": 230,
   "metadata": {},
   "outputs": [],
   "source": [
    "G.add_nodes_from([\"Engenheiro Goulart\", \"Guarulhos–Cecap\", \"Aeroporto-Guarulhos\"])"
   ]
  },
  {
   "cell_type": "code",
   "execution_count": 231,
   "metadata": {},
   "outputs": [],
   "source": [
    "G.add_weighted_edges_from([(\"Engenheiro Goulart\", \"Guarulhos–Cecap\", 3), (\"Guarulhos–Cecap\", \"Aeroporto-Guarulhos\", 5)])"
   ]
  },
  {
   "cell_type": "markdown",
   "metadata": {},
   "source": [
    "### Linha 15 Prata"
   ]
  },
  {
   "cell_type": "code",
   "execution_count": 232,
   "metadata": {
    "colab": {
     "background_save": true
    },
    "id": "9dj_uvoQU_j_"
   },
   "outputs": [],
   "source": [
    "G.add_nodes_from([\"Vila Prudente\", \"Oratório\", \"São Lucas\", \"Camilo Haddad\", \"Vila Tolstói\", \"Vila União\", \"Jardim Planalto\", \"Sapopemba\", \"Fazenda da Juta\", \"São Mateus\", \"Jardim Colonial\"])"
   ]
  },
  {
   "cell_type": "code",
   "execution_count": 233,
   "metadata": {},
   "outputs": [],
   "source": [
    "G.add_weighted_edges_from([(\"Vila Prudente\", \"Oratório\", 51), (\"Oratório\", \"São Lucas\", 2), (\"São Lucas\", \"Camilo Haddad\", 1), (\"Camilo Haddad\", \"Vila Tolstói\", 1), (\"Vila Tolstói\", \"Vila União\", 1), (\"Vila União\", \"Jardim Planalto\", 4), (\"Jardim Planalto\", \"Sapopemba\", 1), (\"Sapopemba\", \"Fazenda da Juta\", 5), (\"Fazenda da Juta\", \"São Mateus\", 12), (\"São Mateus\", \"Jardim Colonial\", 6)])"
   ]
  },
  {
   "cell_type": "markdown",
   "metadata": {
    "id": "_dFgHCGjN7-6"
   },
   "source": [
    "# **Exportando grafo em formato gexf para utilização do Gephi**"
   ]
  },
  {
   "cell_type": "code",
   "execution_count": 234,
   "metadata": {
    "id": "1c9me7L9GtV9"
   },
   "outputs": [],
   "source": [
    "nx.write_gexf(G, path=\"graph.gexf\", version=\"1.2draft\")"
   ]
  },
  {
   "cell_type": "markdown",
   "metadata": {
    "id": "VKBMdDzBOLy7"
   },
   "source": [
    "# **Grafo**"
   ]
  },
  {
   "cell_type": "markdown",
   "metadata": {},
   "source": [
    "![Grafo](screenshot_035306.png)\n"
   ]
  },
  {
   "cell_type": "markdown",
   "metadata": {
    "id": "b8tVLYMHORkW"
   },
   "source": [
    "## **Análise do grafo**"
   ]
  },
  {
   "cell_type": "markdown",
   "metadata": {
    "id": "Ox3XSpgl85VI"
   },
   "source": [
    "## Análise das propriedades basicas do grafo."
   ]
  },
  {
   "cell_type": "markdown",
   "metadata": {
    "id": "Kq0MYJMO85Om"
   },
   "source": [
    "Nesta seção iremos analisar algumas propriedades básicas do grafo como a ordem, o tamanho, o diâmetro, a conectividade dos vértices, a conectividade das arestas, a média dos menores caminhos, além de verificar se o grafo é conexo.\n",
    "\n"
   ]
  },
  {
   "cell_type": "code",
   "execution_count": 235,
   "metadata": {
    "id": "TUftZZ7yRijC"
   },
   "outputs": [
    {
     "name": "stdout",
     "output_type": "stream",
     "text": [
      "   Ordem  Tamanho  Tamanho ponderado  Conexo  Menor caminho médio  Diametro\n",
      "0    174      184             7027.0    True            14.416052        39\n"
     ]
    }
   ],
   "source": [
    "data = {\n",
    "    \"Ordem\" : [G.order()],\n",
    "    \"Tamanho\" : [G.size()],\n",
    "    \"Tamanho ponderado\" : [G.size(weight=\"weight\")],\n",
    "    \"Conexo\" : [nx.is_connected(G)],\n",
    "    \"Menor caminho médio\" : [nx.average_shortest_path_length(G)],\n",
    "    \"Diametro\" : [nx.diameter(G)],\n",
    "}\n",
    "\n",
    "df = pd.DataFrame(data)\n",
    "print(df)"
   ]
  },
  {
   "cell_type": "code",
   "execution_count": 236,
   "metadata": {},
   "outputs": [
    {
     "name": "stdout",
     "output_type": "stream",
     "text": [
      "['Jundiaí', 'Varginha']\n",
      "['Jundiaí', 'Várzea Paulista', 'Campo Limpo Paulista', 'Botujuru', 'Francisco Morato', 'Baltazar Fidélis', 'Franco da Rocha', 'Caieiras', 'Perus', 'Vila Aurora', 'Jaraguá', 'Vila Clarice', 'Pirituba', 'Piqueri', 'Lapa R', 'Agua Branca', 'Palmeiras-Barra Funda', 'Lapa D', 'Domingos Moraes', 'Imperatriz Leopoldina', 'Presidente Altino', 'Ceasa', 'Villa Lobos–Jaguaré', 'Cidade Universitária', 'Pinheiros', 'Hebraica–Rebouças', 'Cidade Jardim', 'Vila Olímpia', 'Berrini', 'Morumbi', 'Granja Julieta', 'João Dias', 'Santo Amaro', 'Socorro', 'Jurubatuba', 'Autódromo', 'Primavera–Interlagos', 'Grajaú', 'Bruno Covas/Mendes–Vila Natal', 'Varginha']\n"
     ]
    }
   ],
   "source": [
    "exc = nx.eccentricity(G)\n",
    "max_dist = [key for key, value in sorted(exc.items(), key=lambda x: x[1], reverse=True)[:2]]\n",
    "\n",
    "\n",
    "df_exc = pd.DataFrame(list(exc.items()), columns=[\"Node\", \"Eccentricity\"]).sort_values(by=\"Eccentricity\")\n",
    "\n",
    "path = nx.shortest_path(G, source = max_dist[0], target = max_dist[1] , weight=\"weight\")\n",
    "print(max_dist)\n",
    "print(path)"
   ]
  },
  {
   "cell_type": "markdown",
   "metadata": {},
   "source": [
    "![LP](Figures/MetroSP2024LongestPath.png)"
   ]
  },
  {
   "cell_type": "markdown",
   "metadata": {
    "id": "sYpseGw4vL0D"
   },
   "source": [
    "## Análise de centralidade de grau"
   ]
  },
  {
   "cell_type": "code",
   "execution_count": 237,
   "metadata": {
    "id": "uNZ83asBB0zL"
   },
   "outputs": [
    {
     "name": "stdout",
     "output_type": "stream",
     "text": [
      "{'Jabaquara': 0.005780346820809248, 'Conceição': 0.011560693641618497, 'São Judas': 0.011560693641618497, 'Saúde': 0.011560693641618497, 'Praça da Árvore': 0.011560693641618497, 'Santa Cruz': 0.023121387283236993, 'Vila Mariana': 0.011560693641618497, 'Ana Rosa': 0.017341040462427744, 'Paraíso': 0.017341040462427744, 'Vergueiro': 0.011560693641618497, 'São Joaquim': 0.011560693641618497, 'Liberdade': 0.011560693641618497, 'Sé': 0.023121387283236993, 'São Bento': 0.011560693641618497, 'Luz': 0.028901734104046242, 'Tiradentes': 0.011560693641618497, 'Armênia': 0.011560693641618497, 'Portuguesa-Tietê': 0.011560693641618497, 'Carandiru': 0.011560693641618497, 'Santana': 0.011560693641618497, 'Jardim São Paulo-Ayrton Senna': 0.011560693641618497, 'Parada Inglesa': 0.011560693641618497, 'Tucuruvi': 0.005780346820809248, 'Vila Madalena': 0.005780346820809248, 'Santuário Nossa Senhora de Fátima-Sumaré': 0.011560693641618497, 'Clínicas': 0.011560693641618497, 'Paulista-Consolação': 0.023121387283236993, 'Trianon-Masp': 0.011560693641618497, 'Brigadeiro': 0.011560693641618497, 'Chácara Klabin': 0.017341040462427744, 'Santos-Imigrantes': 0.011560693641618497, 'Alto do Ipiranga': 0.011560693641618497, 'Sacoma': 0.011560693641618497, 'Tamanduatei': 0.023121387283236993, 'Vila Prudente': 0.011560693641618497, 'Palmeiras-Barra Funda': 0.028901734104046242, 'Marechal Deodoro': 0.011560693641618497, 'Santa Cecília': 0.011560693641618497, 'República': 0.023121387283236993, 'Anhangabaú': 0.011560693641618497, 'Pedro II': 0.011560693641618497, 'Brás': 0.028901734104046242, 'Bresser-Mooca': 0.011560693641618497, 'Belém': 0.011560693641618497, 'Tatuapé': 0.028901734104046242, 'Carrão-Assaí Atacadista': 0.011560693641618497, 'Penha': 0.011560693641618497, 'Vila Matilde': 0.011560693641618497, 'Guilhermina-Esperança': 0.011560693641618497, 'Patriarca': 0.011560693641618497, 'Artur Alvim': 0.011560693641618497, 'Corinthians-Itaquera': 0.017341040462427744, 'Higienópolis-Mackenzie': 0.011560693641618497, 'Oscar Freire': 0.011560693641618497, 'Fradique Coutinho': 0.011560693641618497, 'Faria Lima': 0.011560693641618497, 'Pinheiros': 0.023121387283236993, 'Butantã': 0.011560693641618497, 'São Paulo-Morumbi': 0.011560693641618497, 'Vila Sônia': 0.005780346820809248, 'Capão Redondo': 0.005780346820809248, 'Campo Limpo': 0.011560693641618497, 'Vila das Belezas': 0.011560693641618497, 'Giovanni Gronchi': 0.011560693641618497, 'Santo Amaro': 0.023121387283236993, 'Largo Treze': 0.011560693641618497, 'Adolfo Pinheiro': 0.011560693641618497, 'Alto da Boa Vista': 0.011560693641618497, 'Borba Gato': 0.011560693641618497, 'Brooklin': 0.011560693641618497, 'Campo Belo': 0.011560693641618497, 'Eucaliptos': 0.011560693641618497, 'Moema': 0.011560693641618497, 'AACD-Servidor': 0.011560693641618497, 'Hospital São Paulo': 0.011560693641618497, 'Agua Branca': 0.011560693641618497, 'Lapa R': 0.011560693641618497, 'Piqueri': 0.011560693641618497, 'Pirituba': 0.011560693641618497, 'Vila Clarice': 0.011560693641618497, 'Jaraguá': 0.011560693641618497, 'Vila Aurora': 0.011560693641618497, 'Perus': 0.011560693641618497, 'Caieiras': 0.011560693641618497, 'Franco da Rocha': 0.011560693641618497, 'Baltazar Fidélis': 0.011560693641618497, 'Francisco Morato': 0.011560693641618497, 'Botujuru': 0.011560693641618497, 'Campo Limpo Paulista': 0.011560693641618497, 'Várzea Paulista': 0.011560693641618497, 'Jundiaí': 0.005780346820809248, 'Armador Bueno': 0.005780346820809248, 'Santa Rita': 0.011560693641618497, 'Itapevi': 0.011560693641618497, 'Eng Cardoso': 0.011560693641618497, 'Sangrado Coração': 0.011560693641618497, 'Jandira': 0.011560693641618497, 'Jardim Silveira': 0.011560693641618497, 'Jardim Belval': 0.011560693641618497, 'Barueri': 0.011560693641618497, 'Antonio João': 0.011560693641618497, 'Santa Terezinha': 0.011560693641618497, 'Carapicuiba': 0.011560693641618497, 'General Miguel Costa': 0.011560693641618497, 'Quitauna': 0.011560693641618497, 'Comandante Sampaio': 0.011560693641618497, 'Osasco': 0.011560693641618497, 'Presidente Altino': 0.017341040462427744, 'Imperatriz Leopoldina': 0.011560693641618497, 'Domingos Moraes': 0.011560693641618497, 'Lapa D': 0.011560693641618497, 'Julio Prestes': 0.005780346820809248, 'Ceasa': 0.011560693641618497, 'Villa Lobos–Jaguaré': 0.011560693641618497, 'Cidade Universitária': 0.011560693641618497, 'Hebraica–Rebouças': 0.011560693641618497, 'Cidade Jardim': 0.011560693641618497, 'Vila Olímpia': 0.011560693641618497, 'Berrini': 0.011560693641618497, 'Morumbi': 0.011560693641618497, 'Granja Julieta': 0.011560693641618497, 'João Dias': 0.011560693641618497, 'Socorro': 0.011560693641618497, 'Jurubatuba': 0.011560693641618497, 'Autódromo': 0.011560693641618497, 'Primavera–Interlagos': 0.011560693641618497, 'Grajaú': 0.011560693641618497, 'Bruno Covas/Mendes–Vila Natal': 0.011560693641618497, 'Varginha': 0.005780346820809248, 'Juventude–Mooca': 0.011560693641618497, 'Ipiranga': 0.011560693641618497, 'São Caetano': 0.011560693641618497, 'Utinga': 0.011560693641618497, 'Prefeito Saladino': 0.011560693641618497, 'Santo André': 0.011560693641618497, 'Capuava': 0.011560693641618497, 'Mauá': 0.011560693641618497, 'Guapituba': 0.011560693641618497, 'Ribeirão Pires': 0.011560693641618497, 'Rio Grande da Serra': 0.005780346820809248, 'Dom Bosco': 0.011560693641618497, 'José Bonifácio': 0.011560693641618497, 'Guaianases': 0.011560693641618497, 'Antonio Gianetti Neto': 0.011560693641618497, 'Ferraz de Vasconcelos': 0.011560693641618497, 'Poá': 0.011560693641618497, 'Calmon Viana': 0.017341040462427744, 'Suzano': 0.011560693641618497, 'Jundiapeba': 0.011560693641618497, 'Bras Cubas': 0.011560693641618497, 'Mogi das Cruzes': 0.011560693641618497, 'Estudantes': 0.005780346820809248, 'Engenheiro Goulart': 0.017341040462427744, 'USP Leste': 0.011560693641618497, 'Comendador Ermelino': 0.011560693641618497, 'São Miguel Paulista': 0.011560693641618497, 'Jardim Helena-Vila Mara': 0.011560693641618497, 'Itaim Paulista': 0.011560693641618497, 'Jardim Romano': 0.011560693641618497, 'Engenheiro Manoel Feio': 0.011560693641618497, 'Itaquaquecetuba': 0.011560693641618497, 'Aracaré': 0.011560693641618497, 'Guarulhos–Cecap': 0.011560693641618497, 'Aeroporto-Guarulhos': 0.005780346820809248, 'Oratório': 0.011560693641618497, 'São Lucas': 0.011560693641618497, 'Camilo Haddad': 0.011560693641618497, 'Vila Tolstói': 0.011560693641618497, 'Vila União': 0.011560693641618497, 'Jardim Planalto': 0.011560693641618497, 'Sapopemba': 0.011560693641618497, 'Fazenda da Juta': 0.011560693641618497, 'São Mateus': 0.011560693641618497, 'Jardim Colonial': 0.005780346820809248}\n",
      "('Luz', 0.028901734104046242)\n"
     ]
    }
   ],
   "source": [
    "deg_centrality = nx.degree_centrality(G)\n",
    "\n",
    "print(deg_centrality)\n",
    "centrality_sorted = ((sorted(deg_centrality.items(), key=lambda item: item[1],reverse=True)))\n",
    "print(centrality_sorted[0]) # vertice com maior centralidade de grau [relativa]\n"
   ]
  },
  {
   "cell_type": "code",
   "execution_count": 238,
   "metadata": {
    "id": "QDiAZX3LWB_F"
   },
   "outputs": [
    {
     "data": {
      "image/png": "[encoded data removed]",
      "text/plain": [
       "<Figure size 640x480 with 1 Axes>"
      ]
     },
     "metadata": {},
     "output_type": "display_data"
    }
   ],
   "source": [
    "degree_sequence = sorted((d for n, d in G.degree()), reverse=True)\n",
    "dmax = max(degree_sequence)\n",
    "plt.bar(*np.unique(degree_sequence, return_counts=True))\n",
    "plt.title(\"Distribuição de graus\")\n",
    "plt.xlabel(\"Grau\")\n",
    "plt.ylabel(\"Quantidade\")\n",
    "plt.show()"
   ]
  },
  {
   "cell_type": "markdown",
   "metadata": {
    "id": "Ci3zu2E36UP_"
   },
   "source": [
    "# Análise de expansão da rede"
   ]
  },
  {
   "cell_type": "markdown",
   "metadata": {
    "id": "dGZ3GPZX6ZE1"
   },
   "source": [
    "Agora iremos analisar o grafo assumindo três expanções do sistema, a adição da linha laranja, da expanssão da linha verde e a adição da linha ouro."
   ]
  },
  {
   "cell_type": "markdown",
   "metadata": {},
   "source": [
    "## Linha 2 Verde - E"
   ]
  },
  {
   "cell_type": "markdown",
   "metadata": {},
   "source": [
    "Segundo 6, a expansão da linha 2 verde irá beneficiar 320 mil pessoas por dia, em 7 novas estações se conectando a linha vermelha na estação Penha. Para definir os pesos das arestas iremos estimar a demanda das estações, da seguinte forma iremos normalizar a utilização atual da linha verde e caclular a reta de regressão para a utilização em ordem descrecente. Com a reta de regressão iremos iremos distribuir os 320 mil novos usuarios, para as novas estações alocando a maior demanda nas extremidades que será onde a linha fara as conexões com a linhas atuais."
   ]
  },
  {
   "cell_type": "markdown",
   "metadata": {},
   "source": [
    "### Obtendo a reta de regressão"
   ]
  },
  {
   "cell_type": "code",
   "execution_count": 239,
   "metadata": {},
   "outputs": [],
   "source": [
    "data = linha_verde[\"Media\"]\n",
    "data = data.sort_values(ascending=False)[1:13]\n",
    "data = np.concatenate((data[1:4],data[5:6],data[7:8],data[8:13]))\n",
    "data = data/data.sum()"
   ]
  },
  {
   "cell_type": "code",
   "execution_count": 240,
   "metadata": {},
   "outputs": [],
   "source": [
    "def poly_func(x, a, b):\n",
    "    return a*x + b"
   ]
  },
  {
   "cell_type": "code",
   "execution_count": 241,
   "metadata": {},
   "outputs": [
    {
     "data": {
      "image/png": "[encoded data removed]",
      "text/plain": [
       "<Figure size 640x480 with 1 Axes>"
      ]
     },
     "metadata": {},
     "output_type": "display_data"
    },
    {
     "name": "stdout",
     "output_type": "stream",
     "text": [
      "a = -0.020823798629228785, b = 0.21523010424440947\n"
     ]
    }
   ],
   "source": [
    "x_data = np.arange(1, len(data)+1)\n",
    "y_data = data\n",
    "\n",
    "params, covariance = curve_fit(poly_func, x_data, y_data)\n",
    "\n",
    "y_fitted = poly_func(x_data, *params)\n",
    "\n",
    "plt.bar(x_data, y_data, color='skyblue')\n",
    "plt.plot(x_data, y_fitted, color='red', label='Curva ajustada')\n",
    "plt.title('Distribuição e Curva ajustada')\n",
    "plt.xlabel('X')\n",
    "plt.ylabel('Passagerios')\n",
    "plt.legend()\n",
    "plt.show()\n",
    "\n",
    "print(\"a = {}, b = {}\".format(*params))"
   ]
  },
  {
   "cell_type": "markdown",
   "metadata": {},
   "source": [
    "### Distribuindo a demanda"
   ]
  },
  {
   "cell_type": "code",
   "execution_count": 242,
   "metadata": {},
   "outputs": [
    {
     "data": {
      "image/png": "[encoded data removed]",
      "text/plain": [
       "<Figure size 640x480 with 1 Axes>"
      ]
     },
     "metadata": {},
     "output_type": "display_data"
    }
   ],
   "source": [
    "novas_estações_verde = (poly_func(np.arange(1, 10), *params))*320\n",
    "plt.bar(np.arange(0, 9), novas_estações_verde, color='skyblue')\n",
    "plt.title('Distribuição para novas estações')\n",
    "plt.xlabel('X')\n",
    "plt.ylabel('Passagerios')\n",
    "plt.show()"
   ]
  },
  {
   "cell_type": "code",
   "execution_count": 243,
   "metadata": {},
   "outputs": [
    {
     "data": {
      "image/png": "[encoded data removed]",
      "text/plain": [
       "<Figure size 640x480 with 1 Axes>"
      ]
     },
     "metadata": {},
     "output_type": "display_data"
    }
   ],
   "source": [
    "novas_estações_verde\n",
    "l = len(novas_estações_verde)\n",
    "distribuicao_verde = np.zeros(l)\n",
    "i = 0\n",
    "j = 0\n",
    "while(i < round(l/2)):\n",
    "    distribuicao_verde[i] = novas_estações_verde[j]\n",
    "    distribuicao_verde[l-i-1] = novas_estações_verde[j+1]\n",
    "    i = i + 1\n",
    "    j = j + 2 \n",
    "distribuicao_verde[round(l/2)] = novas_estações_verde[l-1]\n",
    "\n",
    "plt.bar(np.arange(0, 9), distribuicao_verde, color='skyblue')\n",
    "plt.title('Distribuição para novas estações')\n",
    "plt.xlabel('X')\n",
    "plt.ylabel('Passagerios')\n",
    "plt.show()\n"
   ]
  },
  {
   "cell_type": "code",
   "execution_count": 244,
   "metadata": {},
   "outputs": [
    {
     "data": {
      "text/html": [
       "<div>\n",
       "<style scoped>\n",
       "    .dataframe tbody tr th:only-of-type {\n",
       "        vertical-align: middle;\n",
       "    }\n",
       "\n",
       "    .dataframe tbody tr th {\n",
       "        vertical-align: top;\n",
       "    }\n",
       "\n",
       "    .dataframe thead th {\n",
       "        text-align: right;\n",
       "    }\n",
       "</style>\n",
       "<table border=\"1\" class=\"dataframe\">\n",
       "  <thead>\n",
       "    <tr style=\"text-align: right;\">\n",
       "      <th></th>\n",
       "      <th>Station</th>\n",
       "      <th>Media</th>\n",
       "      <th>Difference</th>\n",
       "    </tr>\n",
       "  </thead>\n",
       "  <tbody>\n",
       "    <tr>\n",
       "      <th>0</th>\n",
       "      <td>Vila Prudente</td>\n",
       "      <td>62.210018</td>\n",
       "      <td>NaN</td>\n",
       "    </tr>\n",
       "    <tr>\n",
       "      <th>1</th>\n",
       "      <td>Orfanato</td>\n",
       "      <td>48.882787</td>\n",
       "      <td>13.327231</td>\n",
       "    </tr>\n",
       "    <tr>\n",
       "      <th>2</th>\n",
       "      <td>Santa Clara</td>\n",
       "      <td>35.555556</td>\n",
       "      <td>13.327231</td>\n",
       "    </tr>\n",
       "    <tr>\n",
       "      <th>3</th>\n",
       "      <td>Anália Franco</td>\n",
       "      <td>22.228324</td>\n",
       "      <td>13.327231</td>\n",
       "    </tr>\n",
       "    <tr>\n",
       "      <th>4</th>\n",
       "      <td>Vila Formosa</td>\n",
       "      <td>8.901093</td>\n",
       "      <td>13.327231</td>\n",
       "    </tr>\n",
       "    <tr>\n",
       "      <th>5</th>\n",
       "      <td>Santa Isabel</td>\n",
       "      <td>15.564709</td>\n",
       "      <td>6.663616</td>\n",
       "    </tr>\n",
       "    <tr>\n",
       "      <th>6</th>\n",
       "      <td>Guilherme Giorgi</td>\n",
       "      <td>28.891940</td>\n",
       "      <td>13.327231</td>\n",
       "    </tr>\n",
       "    <tr>\n",
       "      <th>7</th>\n",
       "      <td>Aricanduva</td>\n",
       "      <td>42.219171</td>\n",
       "      <td>13.327231</td>\n",
       "    </tr>\n",
       "    <tr>\n",
       "      <th>8</th>\n",
       "      <td>Penha</td>\n",
       "      <td>55.546402</td>\n",
       "      <td>13.327231</td>\n",
       "    </tr>\n",
       "  </tbody>\n",
       "</table>\n",
       "</div>"
      ],
      "text/plain": [
       "            Station      Media  Difference\n",
       "0     Vila Prudente  62.210018         NaN\n",
       "1          Orfanato  48.882787   13.327231\n",
       "2       Santa Clara  35.555556   13.327231\n",
       "3     Anália Franco  22.228324   13.327231\n",
       "4      Vila Formosa   8.901093   13.327231\n",
       "5      Santa Isabel  15.564709    6.663616\n",
       "6  Guilherme Giorgi  28.891940   13.327231\n",
       "7        Aricanduva  42.219171   13.327231\n",
       "8             Penha  55.546402   13.327231"
      ]
     },
     "execution_count": 244,
     "metadata": {},
     "output_type": "execute_result"
    }
   ],
   "source": [
    "data_linha_verde_e = {\n",
    "    \"Station\": [\n",
    "        \"Vila Prudente\", \"Orfanato\", \"Santa Clara\", \"Anália Franco\", \"Vila Formosa\", \"Santa Isabel\", \"Guilherme Giorgi\", \"Aricanduva\", \"Penha\"\n",
    "    ],\n",
    "    \"Media\": distribuicao_verde\n",
    "}\n",
    "linha_verde_e = pd.DataFrame(data_linha_verde_e)\n",
    "linha_verde_e['Difference'] = linha_verde_e['Media'].diff().abs()\n",
    "linha_verde_e\n"
   ]
  },
  {
   "cell_type": "markdown",
   "metadata": {},
   "source": [
    "### Análise"
   ]
  },
  {
   "cell_type": "code",
   "execution_count": 245,
   "metadata": {},
   "outputs": [],
   "source": [
    "G_verde = G.copy()\n",
    "G_verde.add_nodes_from([\"Orfanato\", \"Santa Clara\", \"Anália Franco\", \"Vila Formosa\", \"Santa Isabel\", \"Guilherme Giorgi\", \"Aricanduva\", \"Penha\"])"
   ]
  },
  {
   "cell_type": "code",
   "execution_count": 246,
   "metadata": {},
   "outputs": [],
   "source": [
    "G_verde.add_weighted_edges_from([(\"Vila Prudente\", \"Orfanato\", 13.327231), (\"Orfanato\", \"Santa Clara\", 13.327231), (\"Santa Clara\", \"Anália Franco\", 13.327231), (\"Anália Franco\", \"Vila Formosa\", 13.327231), (\"Vila Formosa\", \"Santa Isabel\", 6.663616), (\"Santa Isabel\", \"Guilherme Giorgi\", 13.327231), (\"Guilherme Giorgi\", \"Aricanduva\", 13.327231), (\"Aricanduva\", \"Penha\", 13.327231)])"
   ]
  },
  {
   "cell_type": "code",
   "execution_count": 247,
   "metadata": {},
   "outputs": [],
   "source": [
    "nx.write_gexf(G_verde, path=\"graph_verde.gexf\", version=\"1.2draft\")"
   ]
  },
  {
   "cell_type": "markdown",
   "metadata": {},
   "source": [
    "![Grafo_verde](/home/paulo/Analise_do_sistema_metroviario_de_Sao_Paulo/Figures/MetroSP2024Verde.png)"
   ]
  },
  {
   "cell_type": "code",
   "execution_count": 248,
   "metadata": {},
   "outputs": [
    {
     "name": "stdout",
     "output_type": "stream",
     "text": [
      "   Ordem  Tamanho  Tamanho ponderado  Conexo  Menor caminho médio  Diametro\n",
      "0    181      192        7126.954233    True            14.299386        39\n"
     ]
    }
   ],
   "source": [
    "data_verde = {\n",
    "    \"Ordem\" : [G_verde.order()],\n",
    "    \"Tamanho\" : [G_verde.size()],\n",
    "    \"Tamanho ponderado\" : [G_verde.size(weight=\"weight\")],\n",
    "    \"Conexo\" : [nx.is_connected(G_verde)],\n",
    "    \"Menor caminho médio\" : [nx.average_shortest_path_length(G_verde)],\n",
    "    \"Diametro\" : [nx.diameter(G_verde)],\n",
    "}\n",
    "\n",
    "df_verde = pd.DataFrame(data_verde)\n",
    "print(df_verde)"
   ]
  },
  {
   "cell_type": "code",
   "execution_count": 249,
   "metadata": {},
   "outputs": [
    {
     "name": "stdout",
     "output_type": "stream",
     "text": [
      "['Jundiaí', 'Varginha']\n",
      "['Jundiaí', 'Várzea Paulista', 'Campo Limpo Paulista', 'Botujuru', 'Francisco Morato', 'Baltazar Fidélis', 'Franco da Rocha', 'Caieiras', 'Perus', 'Vila Aurora', 'Jaraguá', 'Vila Clarice', 'Pirituba', 'Piqueri', 'Lapa R', 'Agua Branca', 'Palmeiras-Barra Funda', 'Lapa D', 'Domingos Moraes', 'Imperatriz Leopoldina', 'Presidente Altino', 'Ceasa', 'Villa Lobos–Jaguaré', 'Cidade Universitária', 'Pinheiros', 'Hebraica–Rebouças', 'Cidade Jardim', 'Vila Olímpia', 'Berrini', 'Morumbi', 'Granja Julieta', 'João Dias', 'Santo Amaro', 'Socorro', 'Jurubatuba', 'Autódromo', 'Primavera–Interlagos', 'Grajaú', 'Bruno Covas/Mendes–Vila Natal', 'Varginha']\n"
     ]
    }
   ],
   "source": [
    "exc_verde= nx.eccentricity(G_verde)\n",
    "max_dist_verde = [key for key, value in sorted(exc_verde.items(), key=lambda x: x[1], reverse=True)[:2]]\n",
    "df_exc_verde = pd.DataFrame(list(exc_verde.items()), columns=[\"Node\", \"Eccentricity\"]).sort_values(by=\"Eccentricity\")\n",
    "\n",
    "path_verde = nx.shortest_path(G_verde, source = max_dist_verde[0], target = max_dist_verde[1] , weight=\"weight\")\n",
    "print(max_dist_verde)\n",
    "print(path_verde)"
   ]
  },
  {
   "cell_type": "code",
   "execution_count": 250,
   "metadata": {},
   "outputs": [
    {
     "name": "stdout",
     "output_type": "stream",
     "text": [
      "{'Jabaquara': 0.005555555555555556, 'Conceição': 0.011111111111111112, 'São Judas': 0.011111111111111112, 'Saúde': 0.011111111111111112, 'Praça da Árvore': 0.011111111111111112, 'Santa Cruz': 0.022222222222222223, 'Vila Mariana': 0.011111111111111112, 'Ana Rosa': 0.016666666666666666, 'Paraíso': 0.016666666666666666, 'Vergueiro': 0.011111111111111112, 'São Joaquim': 0.011111111111111112, 'Liberdade': 0.011111111111111112, 'Sé': 0.022222222222222223, 'São Bento': 0.011111111111111112, 'Luz': 0.02777777777777778, 'Tiradentes': 0.011111111111111112, 'Armênia': 0.011111111111111112, 'Portuguesa-Tietê': 0.011111111111111112, 'Carandiru': 0.011111111111111112, 'Santana': 0.011111111111111112, 'Jardim São Paulo-Ayrton Senna': 0.011111111111111112, 'Parada Inglesa': 0.011111111111111112, 'Tucuruvi': 0.005555555555555556, 'Vila Madalena': 0.005555555555555556, 'Santuário Nossa Senhora de Fátima-Sumaré': 0.011111111111111112, 'Clínicas': 0.011111111111111112, 'Paulista-Consolação': 0.022222222222222223, 'Trianon-Masp': 0.011111111111111112, 'Brigadeiro': 0.011111111111111112, 'Chácara Klabin': 0.016666666666666666, 'Santos-Imigrantes': 0.011111111111111112, 'Alto do Ipiranga': 0.011111111111111112, 'Sacoma': 0.011111111111111112, 'Tamanduatei': 0.022222222222222223, 'Vila Prudente': 0.016666666666666666, 'Palmeiras-Barra Funda': 0.02777777777777778, 'Marechal Deodoro': 0.011111111111111112, 'Santa Cecília': 0.011111111111111112, 'República': 0.022222222222222223, 'Anhangabaú': 0.011111111111111112, 'Pedro II': 0.011111111111111112, 'Brás': 0.02777777777777778, 'Bresser-Mooca': 0.011111111111111112, 'Belém': 0.011111111111111112, 'Tatuapé': 0.02777777777777778, 'Carrão-Assaí Atacadista': 0.011111111111111112, 'Penha': 0.016666666666666666, 'Vila Matilde': 0.011111111111111112, 'Guilhermina-Esperança': 0.011111111111111112, 'Patriarca': 0.011111111111111112, 'Artur Alvim': 0.011111111111111112, 'Corinthians-Itaquera': 0.016666666666666666, 'Higienópolis-Mackenzie': 0.011111111111111112, 'Oscar Freire': 0.011111111111111112, 'Fradique Coutinho': 0.011111111111111112, 'Faria Lima': 0.011111111111111112, 'Pinheiros': 0.022222222222222223, 'Butantã': 0.011111111111111112, 'São Paulo-Morumbi': 0.011111111111111112, 'Vila Sônia': 0.005555555555555556, 'Capão Redondo': 0.005555555555555556, 'Campo Limpo': 0.011111111111111112, 'Vila das Belezas': 0.011111111111111112, 'Giovanni Gronchi': 0.011111111111111112, 'Santo Amaro': 0.022222222222222223, 'Largo Treze': 0.011111111111111112, 'Adolfo Pinheiro': 0.011111111111111112, 'Alto da Boa Vista': 0.011111111111111112, 'Borba Gato': 0.011111111111111112, 'Brooklin': 0.011111111111111112, 'Campo Belo': 0.011111111111111112, 'Eucaliptos': 0.011111111111111112, 'Moema': 0.011111111111111112, 'AACD-Servidor': 0.011111111111111112, 'Hospital São Paulo': 0.011111111111111112, 'Agua Branca': 0.011111111111111112, 'Lapa R': 0.011111111111111112, 'Piqueri': 0.011111111111111112, 'Pirituba': 0.011111111111111112, 'Vila Clarice': 0.011111111111111112, 'Jaraguá': 0.011111111111111112, 'Vila Aurora': 0.011111111111111112, 'Perus': 0.011111111111111112, 'Caieiras': 0.011111111111111112, 'Franco da Rocha': 0.011111111111111112, 'Baltazar Fidélis': 0.011111111111111112, 'Francisco Morato': 0.011111111111111112, 'Botujuru': 0.011111111111111112, 'Campo Limpo Paulista': 0.011111111111111112, 'Várzea Paulista': 0.011111111111111112, 'Jundiaí': 0.005555555555555556, 'Armador Bueno': 0.005555555555555556, 'Santa Rita': 0.011111111111111112, 'Itapevi': 0.011111111111111112, 'Eng Cardoso': 0.011111111111111112, 'Sangrado Coração': 0.011111111111111112, 'Jandira': 0.011111111111111112, 'Jardim Silveira': 0.011111111111111112, 'Jardim Belval': 0.011111111111111112, 'Barueri': 0.011111111111111112, 'Antonio João': 0.011111111111111112, 'Santa Terezinha': 0.011111111111111112, 'Carapicuiba': 0.011111111111111112, 'General Miguel Costa': 0.011111111111111112, 'Quitauna': 0.011111111111111112, 'Comandante Sampaio': 0.011111111111111112, 'Osasco': 0.011111111111111112, 'Presidente Altino': 0.016666666666666666, 'Imperatriz Leopoldina': 0.011111111111111112, 'Domingos Moraes': 0.011111111111111112, 'Lapa D': 0.011111111111111112, 'Julio Prestes': 0.005555555555555556, 'Ceasa': 0.011111111111111112, 'Villa Lobos–Jaguaré': 0.011111111111111112, 'Cidade Universitária': 0.011111111111111112, 'Hebraica–Rebouças': 0.011111111111111112, 'Cidade Jardim': 0.011111111111111112, 'Vila Olímpia': 0.011111111111111112, 'Berrini': 0.011111111111111112, 'Morumbi': 0.011111111111111112, 'Granja Julieta': 0.011111111111111112, 'João Dias': 0.011111111111111112, 'Socorro': 0.011111111111111112, 'Jurubatuba': 0.011111111111111112, 'Autódromo': 0.011111111111111112, 'Primavera–Interlagos': 0.011111111111111112, 'Grajaú': 0.011111111111111112, 'Bruno Covas/Mendes–Vila Natal': 0.011111111111111112, 'Varginha': 0.005555555555555556, 'Juventude–Mooca': 0.011111111111111112, 'Ipiranga': 0.011111111111111112, 'São Caetano': 0.011111111111111112, 'Utinga': 0.011111111111111112, 'Prefeito Saladino': 0.011111111111111112, 'Santo André': 0.011111111111111112, 'Capuava': 0.011111111111111112, 'Mauá': 0.011111111111111112, 'Guapituba': 0.011111111111111112, 'Ribeirão Pires': 0.011111111111111112, 'Rio Grande da Serra': 0.005555555555555556, 'Dom Bosco': 0.011111111111111112, 'José Bonifácio': 0.011111111111111112, 'Guaianases': 0.011111111111111112, 'Antonio Gianetti Neto': 0.011111111111111112, 'Ferraz de Vasconcelos': 0.011111111111111112, 'Poá': 0.011111111111111112, 'Calmon Viana': 0.016666666666666666, 'Suzano': 0.011111111111111112, 'Jundiapeba': 0.011111111111111112, 'Bras Cubas': 0.011111111111111112, 'Mogi das Cruzes': 0.011111111111111112, 'Estudantes': 0.005555555555555556, 'Engenheiro Goulart': 0.016666666666666666, 'USP Leste': 0.011111111111111112, 'Comendador Ermelino': 0.011111111111111112, 'São Miguel Paulista': 0.011111111111111112, 'Jardim Helena-Vila Mara': 0.011111111111111112, 'Itaim Paulista': 0.011111111111111112, 'Jardim Romano': 0.011111111111111112, 'Engenheiro Manoel Feio': 0.011111111111111112, 'Itaquaquecetuba': 0.011111111111111112, 'Aracaré': 0.011111111111111112, 'Guarulhos–Cecap': 0.011111111111111112, 'Aeroporto-Guarulhos': 0.005555555555555556, 'Oratório': 0.011111111111111112, 'São Lucas': 0.011111111111111112, 'Camilo Haddad': 0.011111111111111112, 'Vila Tolstói': 0.011111111111111112, 'Vila União': 0.011111111111111112, 'Jardim Planalto': 0.011111111111111112, 'Sapopemba': 0.011111111111111112, 'Fazenda da Juta': 0.011111111111111112, 'São Mateus': 0.011111111111111112, 'Jardim Colonial': 0.005555555555555556, 'Orfanato': 0.011111111111111112, 'Santa Clara': 0.011111111111111112, 'Anália Franco': 0.011111111111111112, 'Vila Formosa': 0.011111111111111112, 'Santa Isabel': 0.011111111111111112, 'Guilherme Giorgi': 0.011111111111111112, 'Aricanduva': 0.011111111111111112}\n",
      "('Luz', 0.02777777777777778)\n"
     ]
    }
   ],
   "source": [
    "deg_centrality_verde = nx.degree_centrality(G_verde)\n",
    "\n",
    "print(deg_centrality_verde)\n",
    "centrality_sorted_verde = ((sorted(deg_centrality_verde.items(), key=lambda item: item[1],reverse=True)))\n",
    "print(centrality_sorted_verde[0]) # vertice com maior centralidade de grau [relativa]"
   ]
  },
  {
   "cell_type": "markdown",
   "metadata": {},
   "source": [
    "## Linha 6 Laranja"
   ]
  },
  {
   "cell_type": "markdown",
   "metadata": {},
   "source": [
    "Segunda a [Linha Uni (9)](#Referencias) a linha laranja quando estiver pronta irá contar com 15 estações e atendera 633 mil passageiros por dia. Se ligando a linha 1 e 4 do metro. Para aproximar a demanda da linha laranja, iremos utilizar o mesmo método utilizado para linha verde, mas com a linha amarela como referência."
   ]
  },
  {
   "cell_type": "markdown",
   "metadata": {},
   "source": [
    "### Obetendo a reta de regressão"
   ]
  },
  {
   "cell_type": "code",
   "execution_count": 251,
   "metadata": {},
   "outputs": [],
   "source": [
    "data_laranja = linha_amarela[\"Media\"]\n",
    "data_laranja = data_laranja.sort_values(ascending=False)\n",
    "data_laranja = data_laranja/data_laranja.sum()"
   ]
  },
  {
   "cell_type": "code",
   "execution_count": 252,
   "metadata": {},
   "outputs": [],
   "source": [
    "def poly_func2(x, a, b, c):\n",
    "    return a * x**2 + b * x + c"
   ]
  },
  {
   "cell_type": "code",
   "execution_count": 253,
   "metadata": {},
   "outputs": [
    {
     "data": {
      "image/png": "[encoded data removed]",
      "text/plain": [
       "<Figure size 640x480 with 1 Axes>"
      ]
     },
     "metadata": {},
     "output_type": "display_data"
    },
    {
     "name": "stdout",
     "output_type": "stream",
     "text": [
      "a = 0.0019061743281487686, b = -0.04108269821924493, c = 0.24972126101431746\n"
     ]
    }
   ],
   "source": [
    "x_data = np.arange(1, len(data_laranja)+1)\n",
    "y_data = data_laranja\n",
    "\n",
    "params, covariance = curve_fit(poly_func2, x_data, y_data)\n",
    "\n",
    "y_fitted = poly_func2(x_data, *params)\n",
    "\n",
    "plt.bar(x_data, y_data, color='skyblue')\n",
    "plt.plot(x_data, y_fitted, color='red', label='Curva ajustada')\n",
    "plt.title('Distribuição e Curva ajustada')\n",
    "plt.xlabel('X')\n",
    "plt.ylabel('Passagerios')\n",
    "plt.legend()\n",
    "plt.show()\n",
    "\n",
    "print(\"a = {}, b = {}, c = {}\".format(*params))"
   ]
  },
  {
   "cell_type": "markdown",
   "metadata": {},
   "source": [
    "### Distribuindo a demanda"
   ]
  },
  {
   "cell_type": "code",
   "execution_count": 254,
   "metadata": {},
   "outputs": [
    {
     "data": {
      "image/png": "[encoded data removed]",
      "text/plain": [
       "<Figure size 640x480 with 1 Axes>"
      ]
     },
     "metadata": {},
     "output_type": "display_data"
    }
   ],
   "source": [
    "linha_laranja_dis = (poly_func2(np.arange(1, 16), *params))*633\n",
    "linha_laranja_dis = linha_laranja_dis*(633/linha_laranja_dis.sum())\n",
    "plt.bar(np.arange(1, 16), linha_laranja_dis, color='skyblue')\n",
    "plt.title('Distribuição para novas estações')\n",
    "plt.xlabel('X')\n",
    "plt.ylabel('Passagerios')\n",
    "plt.show()"
   ]
  },
  {
   "cell_type": "code",
   "execution_count": 255,
   "metadata": {},
   "outputs": [
    {
     "data": {
      "text/plain": [
       "np.float64(633.0000000000003)"
      ]
     },
     "execution_count": 255,
     "metadata": {},
     "output_type": "execute_result"
    }
   ],
   "source": [
    "linha_laranja_dis.sum()"
   ]
  },
  {
   "cell_type": "code",
   "execution_count": 256,
   "metadata": {},
   "outputs": [
    {
     "data": {
      "image/png": "[encoded data removed]",
      "text/plain": [
       "<Figure size 640x480 with 1 Axes>"
      ]
     },
     "metadata": {},
     "output_type": "display_data"
    }
   ],
   "source": [
    "l = len(linha_laranja_dis)\n",
    "distribuicao_laranja = np.zeros(l)\n",
    "i = 0\n",
    "j = 0\n",
    "while(i < round(l/2)-1):\n",
    "    distribuicao_laranja[i] = linha_laranja_dis[j]\n",
    "    distribuicao_laranja[l-i-1] = linha_laranja_dis[j+1]\n",
    "    i = i + 1\n",
    "    j = j + 2 \n",
    "distribuicao_laranja[round(l/2)-1] = linha_laranja_dis[l-1]\n",
    "\n",
    "plt.bar(np.arange(0, 15), distribuicao_laranja, color='skyblue')\n",
    "plt.title('Distribuição para novas estações')\n",
    "plt.xlabel('X')\n",
    "plt.ylabel('Passagerios')\n",
    "plt.show()\n"
   ]
  },
  {
   "cell_type": "code",
   "execution_count": 257,
   "metadata": {},
   "outputs": [
    {
     "data": {
      "text/html": [
       "<div>\n",
       "<style scoped>\n",
       "    .dataframe tbody tr th:only-of-type {\n",
       "        vertical-align: middle;\n",
       "    }\n",
       "\n",
       "    .dataframe tbody tr th {\n",
       "        vertical-align: top;\n",
       "    }\n",
       "\n",
       "    .dataframe thead th {\n",
       "        text-align: right;\n",
       "    }\n",
       "</style>\n",
       "<table border=\"1\" class=\"dataframe\">\n",
       "  <thead>\n",
       "    <tr style=\"text-align: right;\">\n",
       "      <th></th>\n",
       "      <th>Station</th>\n",
       "      <th>Media</th>\n",
       "      <th>Difference</th>\n",
       "    </tr>\n",
       "  </thead>\n",
       "  <tbody>\n",
       "    <tr>\n",
       "      <th>0</th>\n",
       "      <td>Brasilandia</td>\n",
       "      <td>112.987726</td>\n",
       "      <td>NaN</td>\n",
       "    </tr>\n",
       "    <tr>\n",
       "      <th>1</th>\n",
       "      <td>Maristela</td>\n",
       "      <td>77.077606</td>\n",
       "      <td>35.910120</td>\n",
       "    </tr>\n",
       "    <tr>\n",
       "      <th>2</th>\n",
       "      <td>Itaberaba-Hospital Vila Penteado</td>\n",
       "      <td>49.350992</td>\n",
       "      <td>27.726613</td>\n",
       "    </tr>\n",
       "    <tr>\n",
       "      <th>3</th>\n",
       "      <td>João Paulo I</td>\n",
       "      <td>29.807887</td>\n",
       "      <td>19.543106</td>\n",
       "    </tr>\n",
       "    <tr>\n",
       "      <th>4</th>\n",
       "      <td>Freguesia do Ó</td>\n",
       "      <td>18.448289</td>\n",
       "      <td>11.359598</td>\n",
       "    </tr>\n",
       "    <tr>\n",
       "      <th>5</th>\n",
       "      <td>Santa Marina</td>\n",
       "      <td>15.272198</td>\n",
       "      <td>3.176091</td>\n",
       "    </tr>\n",
       "    <tr>\n",
       "      <th>6</th>\n",
       "      <td>Água Branca</td>\n",
       "      <td>20.279615</td>\n",
       "      <td>5.007417</td>\n",
       "    </tr>\n",
       "    <tr>\n",
       "      <th>7</th>\n",
       "      <td>SESC-Pompeia</td>\n",
       "      <td>33.470539</td>\n",
       "      <td>13.190924</td>\n",
       "    </tr>\n",
       "    <tr>\n",
       "      <th>8</th>\n",
       "      <td>Perdizes</td>\n",
       "      <td>25.852138</td>\n",
       "      <td>7.618400</td>\n",
       "    </tr>\n",
       "    <tr>\n",
       "      <th>9</th>\n",
       "      <td>PUC-Cardoso de Almeida</td>\n",
       "      <td>16.752968</td>\n",
       "      <td>9.099170</td>\n",
       "    </tr>\n",
       "    <tr>\n",
       "      <th>10</th>\n",
       "      <td>FAAP-Pacaembu</td>\n",
       "      <td>15.837305</td>\n",
       "      <td>0.915663</td>\n",
       "    </tr>\n",
       "    <tr>\n",
       "      <th>11</th>\n",
       "      <td>Higienópolis-Mackenzie</td>\n",
       "      <td>23.105149</td>\n",
       "      <td>7.267844</td>\n",
       "    </tr>\n",
       "    <tr>\n",
       "      <th>12</th>\n",
       "      <td>14 Bis - Saracura</td>\n",
       "      <td>38.556501</td>\n",
       "      <td>15.451352</td>\n",
       "    </tr>\n",
       "    <tr>\n",
       "      <th>13</th>\n",
       "      <td>Bela Vista</td>\n",
       "      <td>62.191361</td>\n",
       "      <td>23.634859</td>\n",
       "    </tr>\n",
       "    <tr>\n",
       "      <th>14</th>\n",
       "      <td>São Joaquim</td>\n",
       "      <td>94.009727</td>\n",
       "      <td>31.818367</td>\n",
       "    </tr>\n",
       "  </tbody>\n",
       "</table>\n",
       "</div>"
      ],
      "text/plain": [
       "                             Station       Media  Difference\n",
       "0                        Brasilandia  112.987726         NaN\n",
       "1                          Maristela   77.077606   35.910120\n",
       "2   Itaberaba-Hospital Vila Penteado   49.350992   27.726613\n",
       "3                       João Paulo I   29.807887   19.543106\n",
       "4                     Freguesia do Ó   18.448289   11.359598\n",
       "5                       Santa Marina   15.272198    3.176091\n",
       "6                        Água Branca   20.279615    5.007417\n",
       "7                       SESC-Pompeia   33.470539   13.190924\n",
       "8                           Perdizes   25.852138    7.618400\n",
       "9             PUC-Cardoso de Almeida   16.752968    9.099170\n",
       "10                     FAAP-Pacaembu   15.837305    0.915663\n",
       "11            Higienópolis-Mackenzie   23.105149    7.267844\n",
       "12                 14 Bis - Saracura   38.556501   15.451352\n",
       "13                        Bela Vista   62.191361   23.634859\n",
       "14                       São Joaquim   94.009727   31.818367"
      ]
     },
     "execution_count": 257,
     "metadata": {},
     "output_type": "execute_result"
    }
   ],
   "source": [
    "data_linha_laranja_df = {\n",
    "    \"Station\": [\n",
    "        \"Brasilandia\", \"Maristela\", \"Itaberaba-Hospital Vila Penteado\", \"João Paulo I\", \"Freguesia do Ó\", \"Santa Marina\", \"Água Branca\", \"SESC-Pompeia\", \"Perdizes\", \"PUC-Cardoso de Almeida\", \"FAAP-Pacaembu\", \"Higienópolis-Mackenzie\", \"14 Bis - Saracura\", \"Bela Vista\", \"São Joaquim\"\n",
    "    ],\n",
    "    \"Media\": distribuicao_laranja\n",
    "}\n",
    "linha_laranja = pd.DataFrame(data_linha_laranja_df)\n",
    "linha_laranja['Difference'] = linha_laranja['Media'].diff().abs()\n",
    "linha_laranja"
   ]
  },
  {
   "cell_type": "markdown",
   "metadata": {},
   "source": [
    "### Análise"
   ]
  },
  {
   "cell_type": "code",
   "execution_count": 258,
   "metadata": {},
   "outputs": [],
   "source": [
    "G_laranja = G.copy()\n",
    "G_laranja.add_nodes_from([\"Brasilandia\", \"Maristela\", \"Itaberaba-Hospital Vila Penteado\", \"João Paulo I\", \"Freguesia do Ó\", \"Santa Marina\", \"Água Branca\", \"SESC-Pompeia\", \"Perdizes\", \"PUC-Cardoso de Almeida\", \"FAAP-Pacaembu\", \"Higienópolis-Mackenzie\", \"14 Bis - Saracura\", \"Bela Vista\", \"São Joaquim\"])"
   ]
  },
  {
   "cell_type": "code",
   "execution_count": 259,
   "metadata": {},
   "outputs": [],
   "source": [
    "G_laranja.add_weighted_edges_from([(\"Brasilandia\", \"Maristela\", 36), (\"Maristela\", \"Itaberaba-Hospital Vila Penteado\", 28), (\"Itaberaba-Hospital Vila Penteado\", \"João Paulo I\", 20), (\"João Paulo I\", \"Freguesia do Ó\", 11), (\"Freguesia do Ó\", \"Santa Marina\", 3), (\"Santa Marina\", \"Água Branca\", 5), (\"Água Branca\", \"SESC-Pompeia\", 13), (\"SESC-Pompeia\", \"Perdizes\", 8), (\"Perdizes\", \"PUC-Cardoso de Almeida\", 9), (\"PUC-Cardoso de Almeida\", \"FAAP-Pacaembu\", 1), (\"FAAP-Pacaembu\", \"Higienópolis-Mackenzie\", 7), (\"Higienópolis-Mackenzie\", \"14 Bis - Saracura\", 15), (\"14 Bis - Saracura\", \"Bela Vista\", 24), (\"Bela Vista\", \"São Joaquim\", 32)])"
   ]
  },
  {
   "cell_type": "code",
   "execution_count": 260,
   "metadata": {},
   "outputs": [],
   "source": [
    "nx.write_gexf(G_laranja, path=\"graph_laranja.gexf\", version=\"1.2draft\")"
   ]
  },
  {
   "cell_type": "markdown",
   "metadata": {},
   "source": [
    "![Grafo_verde](/home/paulo/Analise_do_sistema_metroviario_de_Sao_Paulo/Figures/MetroSP2024Laranja.png)"
   ]
  },
  {
   "cell_type": "code",
   "execution_count": 261,
   "metadata": {},
   "outputs": [
    {
     "name": "stdout",
     "output_type": "stream",
     "text": [
      "   Ordem  Tamanho  Tamanho ponderado  Conexo  Menor caminho médio  Diametro\n",
      "0    187      198             7239.0    True            14.410327        39\n"
     ]
    }
   ],
   "source": [
    "data_laranja = {\n",
    "    \"Ordem\" : [G_laranja.order()],\n",
    "    \"Tamanho\" : [G_laranja.size()],\n",
    "    \"Tamanho ponderado\" : [G_laranja.size(weight=\"weight\")],\n",
    "    \"Conexo\" : [nx.is_connected(G_laranja)],\n",
    "    \"Menor caminho médio\" : [nx.average_shortest_path_length(G_laranja)],\n",
    "    \"Diametro\" : [nx.diameter(G_laranja)],\n",
    "}\n",
    "\n",
    "df_laranja = pd.DataFrame(data_laranja)\n",
    "print(df_laranja)"
   ]
  },
  {
   "cell_type": "code",
   "execution_count": 262,
   "metadata": {},
   "outputs": [
    {
     "name": "stdout",
     "output_type": "stream",
     "text": [
      "['Jundiaí', 'Varginha']\n",
      "['Jundiaí', 'Várzea Paulista', 'Campo Limpo Paulista', 'Botujuru', 'Francisco Morato', 'Baltazar Fidélis', 'Franco da Rocha', 'Caieiras', 'Perus', 'Vila Aurora', 'Jaraguá', 'Vila Clarice', 'Pirituba', 'Piqueri', 'Lapa R', 'Agua Branca', 'Palmeiras-Barra Funda', 'Lapa D', 'Domingos Moraes', 'Imperatriz Leopoldina', 'Presidente Altino', 'Ceasa', 'Villa Lobos–Jaguaré', 'Cidade Universitária', 'Pinheiros', 'Hebraica–Rebouças', 'Cidade Jardim', 'Vila Olímpia', 'Berrini', 'Morumbi', 'Granja Julieta', 'João Dias', 'Santo Amaro', 'Socorro', 'Jurubatuba', 'Autódromo', 'Primavera–Interlagos', 'Grajaú', 'Bruno Covas/Mendes–Vila Natal', 'Varginha']\n"
     ]
    }
   ],
   "source": [
    "exc_laranja = nx.eccentricity(G_laranja)\n",
    "max_dist_laranja = [key for key, value in sorted(exc_laranja.items(), key=lambda x: x[1], reverse=True)[:2]]\n",
    "df_exc_verde = pd.DataFrame(list(exc_laranja.items()), columns=[\"Node\", \"Eccentricity\"]).sort_values(by=\"Eccentricity\")\n",
    "\n",
    "path_laranja = nx.shortest_path(G_laranja, source = max_dist_laranja[0], target = max_dist_laranja[1] , weight=\"weight\")\n",
    "print(max_dist_laranja)\n",
    "print(path_laranja)"
   ]
  },
  {
   "cell_type": "code",
   "execution_count": 263,
   "metadata": {},
   "outputs": [
    {
     "name": "stdout",
     "output_type": "stream",
     "text": [
      "{'Jabaquara': 0.005376344086021506, 'Conceição': 0.010752688172043012, 'São Judas': 0.010752688172043012, 'Saúde': 0.010752688172043012, 'Praça da Árvore': 0.010752688172043012, 'Santa Cruz': 0.021505376344086023, 'Vila Mariana': 0.010752688172043012, 'Ana Rosa': 0.016129032258064516, 'Paraíso': 0.016129032258064516, 'Vergueiro': 0.010752688172043012, 'São Joaquim': 0.016129032258064516, 'Liberdade': 0.010752688172043012, 'Sé': 0.021505376344086023, 'São Bento': 0.010752688172043012, 'Luz': 0.02688172043010753, 'Tiradentes': 0.010752688172043012, 'Armênia': 0.010752688172043012, 'Portuguesa-Tietê': 0.010752688172043012, 'Carandiru': 0.010752688172043012, 'Santana': 0.010752688172043012, 'Jardim São Paulo-Ayrton Senna': 0.010752688172043012, 'Parada Inglesa': 0.010752688172043012, 'Tucuruvi': 0.005376344086021506, 'Vila Madalena': 0.005376344086021506, 'Santuário Nossa Senhora de Fátima-Sumaré': 0.010752688172043012, 'Clínicas': 0.010752688172043012, 'Paulista-Consolação': 0.021505376344086023, 'Trianon-Masp': 0.010752688172043012, 'Brigadeiro': 0.010752688172043012, 'Chácara Klabin': 0.016129032258064516, 'Santos-Imigrantes': 0.010752688172043012, 'Alto do Ipiranga': 0.010752688172043012, 'Sacoma': 0.010752688172043012, 'Tamanduatei': 0.021505376344086023, 'Vila Prudente': 0.010752688172043012, 'Palmeiras-Barra Funda': 0.02688172043010753, 'Marechal Deodoro': 0.010752688172043012, 'Santa Cecília': 0.010752688172043012, 'República': 0.021505376344086023, 'Anhangabaú': 0.010752688172043012, 'Pedro II': 0.010752688172043012, 'Brás': 0.02688172043010753, 'Bresser-Mooca': 0.010752688172043012, 'Belém': 0.010752688172043012, 'Tatuapé': 0.02688172043010753, 'Carrão-Assaí Atacadista': 0.010752688172043012, 'Penha': 0.010752688172043012, 'Vila Matilde': 0.010752688172043012, 'Guilhermina-Esperança': 0.010752688172043012, 'Patriarca': 0.010752688172043012, 'Artur Alvim': 0.010752688172043012, 'Corinthians-Itaquera': 0.016129032258064516, 'Higienópolis-Mackenzie': 0.021505376344086023, 'Oscar Freire': 0.010752688172043012, 'Fradique Coutinho': 0.010752688172043012, 'Faria Lima': 0.010752688172043012, 'Pinheiros': 0.021505376344086023, 'Butantã': 0.010752688172043012, 'São Paulo-Morumbi': 0.010752688172043012, 'Vila Sônia': 0.005376344086021506, 'Capão Redondo': 0.005376344086021506, 'Campo Limpo': 0.010752688172043012, 'Vila das Belezas': 0.010752688172043012, 'Giovanni Gronchi': 0.010752688172043012, 'Santo Amaro': 0.021505376344086023, 'Largo Treze': 0.010752688172043012, 'Adolfo Pinheiro': 0.010752688172043012, 'Alto da Boa Vista': 0.010752688172043012, 'Borba Gato': 0.010752688172043012, 'Brooklin': 0.010752688172043012, 'Campo Belo': 0.010752688172043012, 'Eucaliptos': 0.010752688172043012, 'Moema': 0.010752688172043012, 'AACD-Servidor': 0.010752688172043012, 'Hospital São Paulo': 0.010752688172043012, 'Agua Branca': 0.010752688172043012, 'Lapa R': 0.010752688172043012, 'Piqueri': 0.010752688172043012, 'Pirituba': 0.010752688172043012, 'Vila Clarice': 0.010752688172043012, 'Jaraguá': 0.010752688172043012, 'Vila Aurora': 0.010752688172043012, 'Perus': 0.010752688172043012, 'Caieiras': 0.010752688172043012, 'Franco da Rocha': 0.010752688172043012, 'Baltazar Fidélis': 0.010752688172043012, 'Francisco Morato': 0.010752688172043012, 'Botujuru': 0.010752688172043012, 'Campo Limpo Paulista': 0.010752688172043012, 'Várzea Paulista': 0.010752688172043012, 'Jundiaí': 0.005376344086021506, 'Armador Bueno': 0.005376344086021506, 'Santa Rita': 0.010752688172043012, 'Itapevi': 0.010752688172043012, 'Eng Cardoso': 0.010752688172043012, 'Sangrado Coração': 0.010752688172043012, 'Jandira': 0.010752688172043012, 'Jardim Silveira': 0.010752688172043012, 'Jardim Belval': 0.010752688172043012, 'Barueri': 0.010752688172043012, 'Antonio João': 0.010752688172043012, 'Santa Terezinha': 0.010752688172043012, 'Carapicuiba': 0.010752688172043012, 'General Miguel Costa': 0.010752688172043012, 'Quitauna': 0.010752688172043012, 'Comandante Sampaio': 0.010752688172043012, 'Osasco': 0.010752688172043012, 'Presidente Altino': 0.016129032258064516, 'Imperatriz Leopoldina': 0.010752688172043012, 'Domingos Moraes': 0.010752688172043012, 'Lapa D': 0.010752688172043012, 'Julio Prestes': 0.005376344086021506, 'Ceasa': 0.010752688172043012, 'Villa Lobos–Jaguaré': 0.010752688172043012, 'Cidade Universitária': 0.010752688172043012, 'Hebraica–Rebouças': 0.010752688172043012, 'Cidade Jardim': 0.010752688172043012, 'Vila Olímpia': 0.010752688172043012, 'Berrini': 0.010752688172043012, 'Morumbi': 0.010752688172043012, 'Granja Julieta': 0.010752688172043012, 'João Dias': 0.010752688172043012, 'Socorro': 0.010752688172043012, 'Jurubatuba': 0.010752688172043012, 'Autódromo': 0.010752688172043012, 'Primavera–Interlagos': 0.010752688172043012, 'Grajaú': 0.010752688172043012, 'Bruno Covas/Mendes–Vila Natal': 0.010752688172043012, 'Varginha': 0.005376344086021506, 'Juventude–Mooca': 0.010752688172043012, 'Ipiranga': 0.010752688172043012, 'São Caetano': 0.010752688172043012, 'Utinga': 0.010752688172043012, 'Prefeito Saladino': 0.010752688172043012, 'Santo André': 0.010752688172043012, 'Capuava': 0.010752688172043012, 'Mauá': 0.010752688172043012, 'Guapituba': 0.010752688172043012, 'Ribeirão Pires': 0.010752688172043012, 'Rio Grande da Serra': 0.005376344086021506, 'Dom Bosco': 0.010752688172043012, 'José Bonifácio': 0.010752688172043012, 'Guaianases': 0.010752688172043012, 'Antonio Gianetti Neto': 0.010752688172043012, 'Ferraz de Vasconcelos': 0.010752688172043012, 'Poá': 0.010752688172043012, 'Calmon Viana': 0.016129032258064516, 'Suzano': 0.010752688172043012, 'Jundiapeba': 0.010752688172043012, 'Bras Cubas': 0.010752688172043012, 'Mogi das Cruzes': 0.010752688172043012, 'Estudantes': 0.005376344086021506, 'Engenheiro Goulart': 0.016129032258064516, 'USP Leste': 0.010752688172043012, 'Comendador Ermelino': 0.010752688172043012, 'São Miguel Paulista': 0.010752688172043012, 'Jardim Helena-Vila Mara': 0.010752688172043012, 'Itaim Paulista': 0.010752688172043012, 'Jardim Romano': 0.010752688172043012, 'Engenheiro Manoel Feio': 0.010752688172043012, 'Itaquaquecetuba': 0.010752688172043012, 'Aracaré': 0.010752688172043012, 'Guarulhos–Cecap': 0.010752688172043012, 'Aeroporto-Guarulhos': 0.005376344086021506, 'Oratório': 0.010752688172043012, 'São Lucas': 0.010752688172043012, 'Camilo Haddad': 0.010752688172043012, 'Vila Tolstói': 0.010752688172043012, 'Vila União': 0.010752688172043012, 'Jardim Planalto': 0.010752688172043012, 'Sapopemba': 0.010752688172043012, 'Fazenda da Juta': 0.010752688172043012, 'São Mateus': 0.010752688172043012, 'Jardim Colonial': 0.005376344086021506, 'Brasilandia': 0.005376344086021506, 'Maristela': 0.010752688172043012, 'Itaberaba-Hospital Vila Penteado': 0.010752688172043012, 'João Paulo I': 0.010752688172043012, 'Freguesia do Ó': 0.010752688172043012, 'Santa Marina': 0.010752688172043012, 'Água Branca': 0.010752688172043012, 'SESC-Pompeia': 0.010752688172043012, 'Perdizes': 0.010752688172043012, 'PUC-Cardoso de Almeida': 0.010752688172043012, 'FAAP-Pacaembu': 0.010752688172043012, '14 Bis - Saracura': 0.010752688172043012, 'Bela Vista': 0.010752688172043012}\n",
      "('Luz', 0.02688172043010753)\n"
     ]
    }
   ],
   "source": [
    "deg_centrality_laranja = nx.degree_centrality(G_laranja)\n",
    "\n",
    "print(deg_centrality_laranja)\n",
    "centrality_sorted_laranja = ((sorted(deg_centrality_laranja.items(), key=lambda item: item[1],reverse=True)))\n",
    "print(centrality_sorted_laranja[0]) # vertice com maior centralidade de grau [relativa]"
   ]
  },
  {
   "cell_type": "markdown",
   "metadata": {},
   "source": [
    "## Linha 17 Ouro"
   ]
  },
  {
   "cell_type": "markdown",
   "metadata": {},
   "source": [
    "A linha 17 Ouro será composta por 8 estações e ligara as linhas atuais 5 Lílais e 9 Esmeralda com o aeroporto de Congonhas. A demanda estimada por dia da linha é de 93 mil passageiros segundo [8](#Referencias). A estimação da demanda será feita em relação a linha 15 Prata uma vez que ambas sõ mono trilhos tem um número aproximado de estações (8 e 10) e demanda diaria (93 mil e 128 mil)."
   ]
  },
  {
   "cell_type": "markdown",
   "metadata": {},
   "source": [
    "### Obetendo a reta de regressão"
   ]
  },
  {
   "cell_type": "code",
   "execution_count": 264,
   "metadata": {},
   "outputs": [
    {
     "data": {
      "text/html": [
       "<div>\n",
       "<style scoped>\n",
       "    .dataframe tbody tr th:only-of-type {\n",
       "        vertical-align: middle;\n",
       "    }\n",
       "\n",
       "    .dataframe tbody tr th {\n",
       "        vertical-align: top;\n",
       "    }\n",
       "\n",
       "    .dataframe thead th {\n",
       "        text-align: right;\n",
       "    }\n",
       "</style>\n",
       "<table border=\"1\" class=\"dataframe\">\n",
       "  <thead>\n",
       "    <tr style=\"text-align: right;\">\n",
       "      <th></th>\n",
       "      <th>Estacao</th>\n",
       "      <th>Media</th>\n",
       "      <th>Difference</th>\n",
       "    </tr>\n",
       "  </thead>\n",
       "  <tbody>\n",
       "    <tr>\n",
       "      <th>0</th>\n",
       "      <td>Vila Prudente</td>\n",
       "      <td>58</td>\n",
       "      <td>NaN</td>\n",
       "    </tr>\n",
       "    <tr>\n",
       "      <th>1</th>\n",
       "      <td>Oratorio</td>\n",
       "      <td>7</td>\n",
       "      <td>51.0</td>\n",
       "    </tr>\n",
       "    <tr>\n",
       "      <th>2</th>\n",
       "      <td>Sao Lucas</td>\n",
       "      <td>5</td>\n",
       "      <td>2.0</td>\n",
       "    </tr>\n",
       "    <tr>\n",
       "      <th>3</th>\n",
       "      <td>Camilo Haddad</td>\n",
       "      <td>4</td>\n",
       "      <td>1.0</td>\n",
       "    </tr>\n",
       "    <tr>\n",
       "      <th>4</th>\n",
       "      <td>Vila Tolstoi</td>\n",
       "      <td>5</td>\n",
       "      <td>1.0</td>\n",
       "    </tr>\n",
       "    <tr>\n",
       "      <th>5</th>\n",
       "      <td>Vila Uniao</td>\n",
       "      <td>6</td>\n",
       "      <td>1.0</td>\n",
       "    </tr>\n",
       "    <tr>\n",
       "      <th>6</th>\n",
       "      <td>Jardim Planalto</td>\n",
       "      <td>5</td>\n",
       "      <td>1.0</td>\n",
       "    </tr>\n",
       "    <tr>\n",
       "      <th>7</th>\n",
       "      <td>Sapopemba</td>\n",
       "      <td>9</td>\n",
       "      <td>4.0</td>\n",
       "    </tr>\n",
       "    <tr>\n",
       "      <th>8</th>\n",
       "      <td>Fazenda da Juta</td>\n",
       "      <td>4</td>\n",
       "      <td>5.0</td>\n",
       "    </tr>\n",
       "    <tr>\n",
       "      <th>9</th>\n",
       "      <td>Sao Mateus</td>\n",
       "      <td>16</td>\n",
       "      <td>12.0</td>\n",
       "    </tr>\n",
       "    <tr>\n",
       "      <th>10</th>\n",
       "      <td>Jardim Colonial</td>\n",
       "      <td>10</td>\n",
       "      <td>6.0</td>\n",
       "    </tr>\n",
       "    <tr>\n",
       "      <th>11</th>\n",
       "      <td>Total</td>\n",
       "      <td>128</td>\n",
       "      <td>118.0</td>\n",
       "    </tr>\n",
       "  </tbody>\n",
       "</table>\n",
       "</div>"
      ],
      "text/plain": [
       "            Estacao  Media  Difference\n",
       "0     Vila Prudente     58         NaN\n",
       "1          Oratorio      7        51.0\n",
       "2         Sao Lucas      5         2.0\n",
       "3     Camilo Haddad      4         1.0\n",
       "4      Vila Tolstoi      5         1.0\n",
       "5        Vila Uniao      6         1.0\n",
       "6   Jardim Planalto      5         1.0\n",
       "7         Sapopemba      9         4.0\n",
       "8   Fazenda da Juta      4         5.0\n",
       "9        Sao Mateus     16        12.0\n",
       "10  Jardim Colonial     10         6.0\n",
       "11            Total    128       118.0"
      ]
     },
     "execution_count": 264,
     "metadata": {},
     "output_type": "execute_result"
    }
   ],
   "source": [
    "linha_prata"
   ]
  },
  {
   "cell_type": "code",
   "execution_count": 265,
   "metadata": {},
   "outputs": [],
   "source": [
    "def poly_func3(x, a, b, c, d):\n",
    "    return a * x**3 + b * x**2 + c * x + d"
   ]
  },
  {
   "cell_type": "code",
   "execution_count": 266,
   "metadata": {},
   "outputs": [],
   "source": [
    "linha_prata_ = linha_prata[\"Media\"]\n",
    "linha_prata_ = linha_prata_.sort_values(ascending=False)\n",
    "linha_prata_ = linha_prata_/linha_prata_.sum()"
   ]
  },
  {
   "cell_type": "code",
   "execution_count": 267,
   "metadata": {},
   "outputs": [
    {
     "data": {
      "image/png": "[encoded data removed]",
      "text/plain": [
       "<Figure size 640x480 with 1 Axes>"
      ]
     },
     "metadata": {},
     "output_type": "display_data"
    },
    {
     "name": "stdout",
     "output_type": "stream",
     "text": [
      "a = -0.0017590854188549443, b = 0.04179953206974407, c = -0.3097832416921962, d= 0.7246393900073791\n"
     ]
    }
   ],
   "source": [
    "x_data = np.arange(1, len(linha_prata_)+1)\n",
    "y_data = linha_prata_\n",
    "\n",
    "params, covariance = curve_fit(poly_func3, x_data, y_data)\n",
    "\n",
    "y_fitted = poly_func3(x_data, *params)\n",
    "\n",
    "\n",
    "plt.bar(x_data, y_data, color='skyblue')\n",
    "plt.plot(x_data, y_fitted, color='red', label='Curva ajustada')\n",
    "plt.title('Distribuição e Curva ajustada')\n",
    "plt.xlabel('X')\n",
    "plt.ylabel('Passagerios')\n",
    "plt.legend()\n",
    "plt.show()\n",
    "\n",
    "print(\"a = {}, b = {}, c = {}, d= {}\".format(*params))"
   ]
  },
  {
   "cell_type": "markdown",
   "metadata": {},
   "source": [
    "### Distribuindo a demanda"
   ]
  },
  {
   "cell_type": "code",
   "execution_count": 268,
   "metadata": {},
   "outputs": [
    {
     "data": {
      "image/png": "[encoded data removed]",
      "text/plain": [
       "<Figure size 640x480 with 1 Axes>"
      ]
     },
     "metadata": {},
     "output_type": "display_data"
    }
   ],
   "source": [
    "linha_ouro_dis = (poly_func3(np.arange(1, 9), *params))*93\n",
    "linha_ouro_dis = np.abs(linha_ouro_dis)\n",
    "linha_ouro_dis = linha_ouro_dis*(93/linha_ouro_dis.sum())\n",
    "plt.bar(np.arange(1, 9), linha_ouro_dis, color='skyblue')\n",
    "plt.title('Distribuição para novas estações')\n",
    "plt.xlabel('X')\n",
    "plt.ylabel('Passagerios')\n",
    "plt.show()"
   ]
  },
  {
   "cell_type": "code",
   "execution_count": 269,
   "metadata": {},
   "outputs": [
    {
     "data": {
      "text/plain": [
       "np.float64(92.99999999999999)"
      ]
     },
     "execution_count": 269,
     "metadata": {},
     "output_type": "execute_result"
    }
   ],
   "source": [
    "linha_ouro_dis.sum()"
   ]
  },
  {
   "cell_type": "code",
   "execution_count": 270,
   "metadata": {},
   "outputs": [
    {
     "data": {
      "image/png": "[encoded data removed]",
      "text/plain": [
       "<Figure size 640x480 with 1 Axes>"
      ]
     },
     "metadata": {},
     "output_type": "display_data"
    }
   ],
   "source": [
    "l = len(linha_ouro_dis)\n",
    "distribuicao_ouro = np.zeros(l)\n",
    "i = 0\n",
    "j = 0\n",
    "while(i < round(l/2)):\n",
    "    distribuicao_ouro[i] = linha_ouro_dis[j]\n",
    "    distribuicao_ouro[l-i-1] = linha_ouro_dis[j+1]\n",
    "    i = i + 1\n",
    "    j = j + 2 \n",
    "distribuicao_ouro[round(l/2)] = linha_ouro_dis[l-1]\n",
    "\n",
    "plt.bar(np.arange(0, 8), distribuicao_ouro, color='skyblue')\n",
    "plt.title('Distribuição para novas estações')\n",
    "plt.xlabel('X')\n",
    "plt.ylabel('Passagerios')\n",
    "plt.show()"
   ]
  },
  {
   "cell_type": "code",
   "execution_count": 271,
   "metadata": {},
   "outputs": [
    {
     "data": {
      "text/html": [
       "<div>\n",
       "<style scoped>\n",
       "    .dataframe tbody tr th:only-of-type {\n",
       "        vertical-align: middle;\n",
       "    }\n",
       "\n",
       "    .dataframe tbody tr th {\n",
       "        vertical-align: top;\n",
       "    }\n",
       "\n",
       "    .dataframe thead th {\n",
       "        text-align: right;\n",
       "    }\n",
       "</style>\n",
       "<table border=\"1\" class=\"dataframe\">\n",
       "  <thead>\n",
       "    <tr style=\"text-align: right;\">\n",
       "      <th></th>\n",
       "      <th>Station</th>\n",
       "      <th>Media</th>\n",
       "      <th>Difference</th>\n",
       "    </tr>\n",
       "  </thead>\n",
       "  <tbody>\n",
       "    <tr>\n",
       "      <th>0</th>\n",
       "      <td>Congonhas</td>\n",
       "      <td>46.452323</td>\n",
       "      <td>NaN</td>\n",
       "    </tr>\n",
       "    <tr>\n",
       "      <th>1</th>\n",
       "      <td>Jardim Aeroporto</td>\n",
       "      <td>12.661406</td>\n",
       "      <td>33.790917</td>\n",
       "    </tr>\n",
       "    <tr>\n",
       "      <th>2</th>\n",
       "      <td>Brooklin Paulista</td>\n",
       "      <td>0.084328</td>\n",
       "      <td>12.577078</td>\n",
       "    </tr>\n",
       "    <tr>\n",
       "      <th>3</th>\n",
       "      <td>Vereador José Diniz</td>\n",
       "      <td>0.098794</td>\n",
       "      <td>0.014466</td>\n",
       "    </tr>\n",
       "    <tr>\n",
       "      <th>4</th>\n",
       "      <td>Campo Belo</td>\n",
       "      <td>2.133389</td>\n",
       "      <td>2.034595</td>\n",
       "    </tr>\n",
       "    <tr>\n",
       "      <th>5</th>\n",
       "      <td>Vila Cordeiro</td>\n",
       "      <td>0.943488</td>\n",
       "      <td>1.189901</td>\n",
       "    </tr>\n",
       "    <tr>\n",
       "      <th>6</th>\n",
       "      <td>Chucri Zaidan</td>\n",
       "      <td>4.260030</td>\n",
       "      <td>3.316542</td>\n",
       "    </tr>\n",
       "    <tr>\n",
       "      <th>7</th>\n",
       "      <td>Morumbi</td>\n",
       "      <td>26.366241</td>\n",
       "      <td>22.106210</td>\n",
       "    </tr>\n",
       "  </tbody>\n",
       "</table>\n",
       "</div>"
      ],
      "text/plain": [
       "               Station      Media  Difference\n",
       "0            Congonhas  46.452323         NaN\n",
       "1     Jardim Aeroporto  12.661406   33.790917\n",
       "2    Brooklin Paulista   0.084328   12.577078\n",
       "3  Vereador José Diniz   0.098794    0.014466\n",
       "4           Campo Belo   2.133389    2.034595\n",
       "5        Vila Cordeiro   0.943488    1.189901\n",
       "6        Chucri Zaidan   4.260030    3.316542\n",
       "7              Morumbi  26.366241   22.106210"
      ]
     },
     "execution_count": 271,
     "metadata": {},
     "output_type": "execute_result"
    }
   ],
   "source": [
    "\n",
    "data_linha_ouro_df = {\n",
    "    \"Station\": [\n",
    "        \"Congonhas\", \"Jardim Aeroporto\", \"Brooklin Paulista\", \"Vereador José Diniz\", \"Campo Belo\", \"Vila Cordeiro\", \"Chucri Zaidan\", \"Morumbi\"\n",
    "    ],\n",
    "    \"Media\": distribuicao_ouro\n",
    "}\n",
    "linha_ouro = pd.DataFrame(data_linha_ouro_df)\n",
    "linha_ouro['Difference'] = linha_ouro['Media'].diff().abs()\n",
    "linha_ouro"
   ]
  },
  {
   "cell_type": "markdown",
   "metadata": {},
   "source": [
    "Segundo [A AENA](#Referencias) em 2023 o aeroporto de congonhas teve uma média de passageiros diarios de 60 mil, já o Aeroporto Internacional de São Paulo teve uma média diaria segundo [a GRU AIRPORT](#Referencias) de 110 mil passageiros diarios. Comparando a aproximação da média de utilização diaria para a estação de Congonhas (46 mil) com a estação Aeroporto_Guarulhos (9 mil), porém 40 mil passageiros que utilizaram o Aeroporto Internacional de São Paulo forám para vóos internacionais, além disso a estação Aeroporto-Guarulhos tem uma distancia consederavél até o terminais de embarque. Logo a aproximação da distribuição para linha ouro ficou um pouco distoante é o suficiente para a análise."
   ]
  },
  {
   "cell_type": "code",
   "execution_count": 272,
   "metadata": {},
   "outputs": [
    {
     "data": {
      "text/html": [
       "<div>\n",
       "<style scoped>\n",
       "    .dataframe tbody tr th:only-of-type {\n",
       "        vertical-align: middle;\n",
       "    }\n",
       "\n",
       "    .dataframe tbody tr th {\n",
       "        vertical-align: top;\n",
       "    }\n",
       "\n",
       "    .dataframe thead th {\n",
       "        text-align: right;\n",
       "    }\n",
       "</style>\n",
       "<table border=\"1\" class=\"dataframe\">\n",
       "  <thead>\n",
       "    <tr style=\"text-align: right;\">\n",
       "      <th></th>\n",
       "      <th>Estacao</th>\n",
       "      <th>Media</th>\n",
       "      <th>Difference</th>\n",
       "    </tr>\n",
       "  </thead>\n",
       "  <tbody>\n",
       "    <tr>\n",
       "      <th>0</th>\n",
       "      <td>Engenheiro Goulart</td>\n",
       "      <td>0.897871</td>\n",
       "      <td>NaN</td>\n",
       "    </tr>\n",
       "    <tr>\n",
       "      <th>1</th>\n",
       "      <td>Guarulhos–Cecap</td>\n",
       "      <td>3.928387</td>\n",
       "      <td>3.030516</td>\n",
       "    </tr>\n",
       "    <tr>\n",
       "      <th>2</th>\n",
       "      <td>Aeroporto-Guarulhos</td>\n",
       "      <td>9.084774</td>\n",
       "      <td>5.156387</td>\n",
       "    </tr>\n",
       "  </tbody>\n",
       "</table>\n",
       "</div>"
      ],
      "text/plain": [
       "               Estacao     Media  Difference\n",
       "0   Engenheiro Goulart  0.897871         NaN\n",
       "1      Guarulhos–Cecap  3.928387    3.030516\n",
       "2  Aeroporto-Guarulhos  9.084774    5.156387"
      ]
     },
     "execution_count": 272,
     "metadata": {},
     "output_type": "execute_result"
    }
   ],
   "source": [
    "linha_jade"
   ]
  },
  {
   "cell_type": "markdown",
   "metadata": {},
   "source": [
    "### Análise"
   ]
  },
  {
   "cell_type": "code",
   "execution_count": 273,
   "metadata": {},
   "outputs": [],
   "source": [
    "G_ouro = G.copy()\n",
    "G_ouro.add_nodes_from([\"Congonhas\", \"Jardim Aeroporto\", \"Brooklin Paulista\", \"Vereador José Diniz\", \"Campo Belo\", \"Vila Cordeiro\", \"Chucri Zaidan\", \"Morumbi\"])"
   ]
  },
  {
   "cell_type": "code",
   "execution_count": 274,
   "metadata": {},
   "outputs": [],
   "source": [
    "G_ouro.add_weighted_edges_from([(\"Congonhas\", \"Jardim Aeroporto\", 34), (\"Jardim Aeroporto\", \"Brooklin Paulista\", 13), (\"Brooklin Paulista\", \"Vereador José Diniz\", 1), (\"Vereador José Diniz\", \"Campo Belo\", 2), (\"Campo Belo\", \"Vila Cordeiro\", 1), (\"Vila Cordeiro\", \"Chucri Zaidan\", 3), (\"Chucri Zaidan\", \"Morumbi\", 22)])"
   ]
  },
  {
   "cell_type": "code",
   "execution_count": 275,
   "metadata": {},
   "outputs": [],
   "source": [
    "nx.write_gexf(G_ouro, path=\"graph_ouro.gexf\", version=\"1.2draft\")"
   ]
  },
  {
   "cell_type": "markdown",
   "metadata": {},
   "source": [
    "![Grafo_ouro](/home/paulo/Analise_do_sistema_metroviario_de_Sao_Paulo/Figures/MetroSP2024Ouro.png)"
   ]
  },
  {
   "cell_type": "code",
   "execution_count": 276,
   "metadata": {},
   "outputs": [
    {
     "name": "stdout",
     "output_type": "stream",
     "text": [
      "   Ordem  Tamanho  Tamanho ponderado  Conexo  Menor caminho médio  Diametro\n",
      "0    180      191             7103.0    True            14.446989        39\n"
     ]
    }
   ],
   "source": [
    "data_ouro = {\n",
    "    \"Ordem\" : [G_ouro.order()],\n",
    "    \"Tamanho\" : [G_ouro.size()],\n",
    "    \"Tamanho ponderado\" : [G_ouro.size(weight=\"weight\")],\n",
    "    \"Conexo\" : [nx.is_connected(G_ouro)],\n",
    "    \"Menor caminho médio\" : [nx.average_shortest_path_length(G_ouro)],\n",
    "    \"Diametro\" : [nx.diameter(G_ouro)],\n",
    "}\n",
    "\n",
    "df_ouro = pd.DataFrame(data_ouro)\n",
    "print(df_ouro)"
   ]
  },
  {
   "cell_type": "code",
   "execution_count": 277,
   "metadata": {},
   "outputs": [
    {
     "name": "stdout",
     "output_type": "stream",
     "text": [
      "['Jundiaí', 'Varginha']\n",
      "['Jundiaí', 'Várzea Paulista', 'Campo Limpo Paulista', 'Botujuru', 'Francisco Morato', 'Baltazar Fidélis', 'Franco da Rocha', 'Caieiras', 'Perus', 'Vila Aurora', 'Jaraguá', 'Vila Clarice', 'Pirituba', 'Piqueri', 'Lapa R', 'Agua Branca', 'Palmeiras-Barra Funda', 'Lapa D', 'Domingos Moraes', 'Imperatriz Leopoldina', 'Presidente Altino', 'Ceasa', 'Villa Lobos–Jaguaré', 'Cidade Universitária', 'Pinheiros', 'Hebraica–Rebouças', 'Cidade Jardim', 'Vila Olímpia', 'Berrini', 'Morumbi', 'Granja Julieta', 'João Dias', 'Santo Amaro', 'Socorro', 'Jurubatuba', 'Autódromo', 'Primavera–Interlagos', 'Grajaú', 'Bruno Covas/Mendes–Vila Natal', 'Varginha']\n"
     ]
    }
   ],
   "source": [
    "exc_ouro = nx.eccentricity(G_ouro)\n",
    "max_dist_ouro = [key for key, value in sorted(exc_ouro.items(), key=lambda x: x[1], reverse=True)[:2]]\n",
    "df_exc_ouro = pd.DataFrame(list(exc_ouro.items()), columns=[\"Node\", \"Eccentricity\"]).sort_values(by=\"Eccentricity\")\n",
    "\n",
    "path_ouro = nx.shortest_path(G_ouro, source = max_dist_ouro[0], target = max_dist_ouro[1] , weight=\"weight\")\n",
    "print(max_dist_ouro)\n",
    "print(path_ouro)"
   ]
  },
  {
   "cell_type": "code",
   "execution_count": 278,
   "metadata": {},
   "outputs": [
    {
     "name": "stdout",
     "output_type": "stream",
     "text": [
      "{'Jabaquara': 0.00558659217877095, 'Conceição': 0.0111731843575419, 'São Judas': 0.0111731843575419, 'Saúde': 0.0111731843575419, 'Praça da Árvore': 0.0111731843575419, 'Santa Cruz': 0.0223463687150838, 'Vila Mariana': 0.0111731843575419, 'Ana Rosa': 0.01675977653631285, 'Paraíso': 0.01675977653631285, 'Vergueiro': 0.0111731843575419, 'São Joaquim': 0.0111731843575419, 'Liberdade': 0.0111731843575419, 'Sé': 0.0223463687150838, 'São Bento': 0.0111731843575419, 'Luz': 0.02793296089385475, 'Tiradentes': 0.0111731843575419, 'Armênia': 0.0111731843575419, 'Portuguesa-Tietê': 0.0111731843575419, 'Carandiru': 0.0111731843575419, 'Santana': 0.0111731843575419, 'Jardim São Paulo-Ayrton Senna': 0.0111731843575419, 'Parada Inglesa': 0.0111731843575419, 'Tucuruvi': 0.00558659217877095, 'Vila Madalena': 0.00558659217877095, 'Santuário Nossa Senhora de Fátima-Sumaré': 0.0111731843575419, 'Clínicas': 0.0111731843575419, 'Paulista-Consolação': 0.0223463687150838, 'Trianon-Masp': 0.0111731843575419, 'Brigadeiro': 0.0111731843575419, 'Chácara Klabin': 0.01675977653631285, 'Santos-Imigrantes': 0.0111731843575419, 'Alto do Ipiranga': 0.0111731843575419, 'Sacoma': 0.0111731843575419, 'Tamanduatei': 0.0223463687150838, 'Vila Prudente': 0.0111731843575419, 'Palmeiras-Barra Funda': 0.02793296089385475, 'Marechal Deodoro': 0.0111731843575419, 'Santa Cecília': 0.0111731843575419, 'República': 0.0223463687150838, 'Anhangabaú': 0.0111731843575419, 'Pedro II': 0.0111731843575419, 'Brás': 0.02793296089385475, 'Bresser-Mooca': 0.0111731843575419, 'Belém': 0.0111731843575419, 'Tatuapé': 0.02793296089385475, 'Carrão-Assaí Atacadista': 0.0111731843575419, 'Penha': 0.0111731843575419, 'Vila Matilde': 0.0111731843575419, 'Guilhermina-Esperança': 0.0111731843575419, 'Patriarca': 0.0111731843575419, 'Artur Alvim': 0.0111731843575419, 'Corinthians-Itaquera': 0.01675977653631285, 'Higienópolis-Mackenzie': 0.0111731843575419, 'Oscar Freire': 0.0111731843575419, 'Fradique Coutinho': 0.0111731843575419, 'Faria Lima': 0.0111731843575419, 'Pinheiros': 0.0223463687150838, 'Butantã': 0.0111731843575419, 'São Paulo-Morumbi': 0.0111731843575419, 'Vila Sônia': 0.00558659217877095, 'Capão Redondo': 0.00558659217877095, 'Campo Limpo': 0.0111731843575419, 'Vila das Belezas': 0.0111731843575419, 'Giovanni Gronchi': 0.0111731843575419, 'Santo Amaro': 0.0223463687150838, 'Largo Treze': 0.0111731843575419, 'Adolfo Pinheiro': 0.0111731843575419, 'Alto da Boa Vista': 0.0111731843575419, 'Borba Gato': 0.0111731843575419, 'Brooklin': 0.0111731843575419, 'Campo Belo': 0.0223463687150838, 'Eucaliptos': 0.0111731843575419, 'Moema': 0.0111731843575419, 'AACD-Servidor': 0.0111731843575419, 'Hospital São Paulo': 0.0111731843575419, 'Agua Branca': 0.0111731843575419, 'Lapa R': 0.0111731843575419, 'Piqueri': 0.0111731843575419, 'Pirituba': 0.0111731843575419, 'Vila Clarice': 0.0111731843575419, 'Jaraguá': 0.0111731843575419, 'Vila Aurora': 0.0111731843575419, 'Perus': 0.0111731843575419, 'Caieiras': 0.0111731843575419, 'Franco da Rocha': 0.0111731843575419, 'Baltazar Fidélis': 0.0111731843575419, 'Francisco Morato': 0.0111731843575419, 'Botujuru': 0.0111731843575419, 'Campo Limpo Paulista': 0.0111731843575419, 'Várzea Paulista': 0.0111731843575419, 'Jundiaí': 0.00558659217877095, 'Armador Bueno': 0.00558659217877095, 'Santa Rita': 0.0111731843575419, 'Itapevi': 0.0111731843575419, 'Eng Cardoso': 0.0111731843575419, 'Sangrado Coração': 0.0111731843575419, 'Jandira': 0.0111731843575419, 'Jardim Silveira': 0.0111731843575419, 'Jardim Belval': 0.0111731843575419, 'Barueri': 0.0111731843575419, 'Antonio João': 0.0111731843575419, 'Santa Terezinha': 0.0111731843575419, 'Carapicuiba': 0.0111731843575419, 'General Miguel Costa': 0.0111731843575419, 'Quitauna': 0.0111731843575419, 'Comandante Sampaio': 0.0111731843575419, 'Osasco': 0.0111731843575419, 'Presidente Altino': 0.01675977653631285, 'Imperatriz Leopoldina': 0.0111731843575419, 'Domingos Moraes': 0.0111731843575419, 'Lapa D': 0.0111731843575419, 'Julio Prestes': 0.00558659217877095, 'Ceasa': 0.0111731843575419, 'Villa Lobos–Jaguaré': 0.0111731843575419, 'Cidade Universitária': 0.0111731843575419, 'Hebraica–Rebouças': 0.0111731843575419, 'Cidade Jardim': 0.0111731843575419, 'Vila Olímpia': 0.0111731843575419, 'Berrini': 0.0111731843575419, 'Morumbi': 0.01675977653631285, 'Granja Julieta': 0.0111731843575419, 'João Dias': 0.0111731843575419, 'Socorro': 0.0111731843575419, 'Jurubatuba': 0.0111731843575419, 'Autódromo': 0.0111731843575419, 'Primavera–Interlagos': 0.0111731843575419, 'Grajaú': 0.0111731843575419, 'Bruno Covas/Mendes–Vila Natal': 0.0111731843575419, 'Varginha': 0.00558659217877095, 'Juventude–Mooca': 0.0111731843575419, 'Ipiranga': 0.0111731843575419, 'São Caetano': 0.0111731843575419, 'Utinga': 0.0111731843575419, 'Prefeito Saladino': 0.0111731843575419, 'Santo André': 0.0111731843575419, 'Capuava': 0.0111731843575419, 'Mauá': 0.0111731843575419, 'Guapituba': 0.0111731843575419, 'Ribeirão Pires': 0.0111731843575419, 'Rio Grande da Serra': 0.00558659217877095, 'Dom Bosco': 0.0111731843575419, 'José Bonifácio': 0.0111731843575419, 'Guaianases': 0.0111731843575419, 'Antonio Gianetti Neto': 0.0111731843575419, 'Ferraz de Vasconcelos': 0.0111731843575419, 'Poá': 0.0111731843575419, 'Calmon Viana': 0.01675977653631285, 'Suzano': 0.0111731843575419, 'Jundiapeba': 0.0111731843575419, 'Bras Cubas': 0.0111731843575419, 'Mogi das Cruzes': 0.0111731843575419, 'Estudantes': 0.00558659217877095, 'Engenheiro Goulart': 0.01675977653631285, 'USP Leste': 0.0111731843575419, 'Comendador Ermelino': 0.0111731843575419, 'São Miguel Paulista': 0.0111731843575419, 'Jardim Helena-Vila Mara': 0.0111731843575419, 'Itaim Paulista': 0.0111731843575419, 'Jardim Romano': 0.0111731843575419, 'Engenheiro Manoel Feio': 0.0111731843575419, 'Itaquaquecetuba': 0.0111731843575419, 'Aracaré': 0.0111731843575419, 'Guarulhos–Cecap': 0.0111731843575419, 'Aeroporto-Guarulhos': 0.00558659217877095, 'Oratório': 0.0111731843575419, 'São Lucas': 0.0111731843575419, 'Camilo Haddad': 0.0111731843575419, 'Vila Tolstói': 0.0111731843575419, 'Vila União': 0.0111731843575419, 'Jardim Planalto': 0.0111731843575419, 'Sapopemba': 0.0111731843575419, 'Fazenda da Juta': 0.0111731843575419, 'São Mateus': 0.0111731843575419, 'Jardim Colonial': 0.00558659217877095, 'Congonhas': 0.00558659217877095, 'Jardim Aeroporto': 0.0111731843575419, 'Brooklin Paulista': 0.0111731843575419, 'Vereador José Diniz': 0.0111731843575419, 'Vila Cordeiro': 0.0111731843575419, 'Chucri Zaidan': 0.0111731843575419}\n",
      "('Luz', 0.02793296089385475)\n"
     ]
    }
   ],
   "source": [
    "deg_centrality_ouro = nx.degree_centrality(G_ouro)\n",
    "\n",
    "print(deg_centrality_ouro)\n",
    "centrality_sorted_ouro = ((sorted(deg_centrality_ouro.items(), key=lambda item: item[1],reverse=True)))\n",
    "print(centrality_sorted_ouro[0]) # vertice com maior centralidade de grau [relativa]"
   ]
  },
  {
   "cell_type": "markdown",
   "metadata": {},
   "source": [
    "## Expansão completa"
   ]
  },
  {
   "cell_type": "code",
   "execution_count": 279,
   "metadata": {},
   "outputs": [],
   "source": [
    "G.add_nodes_from([\"Orfanato\", \"Santa Clara\", \"Anália Franco\", \"Vila Formosa\", \"Santa Isabel\", \"Guilherme Giorgi\", \"Aricanduva\", \"Penha\"])\n",
    "\n",
    "G.add_weighted_edges_from([(\"Vila Prudente\", \"Orfanato\", 13.327231), (\"Orfanato\", \"Santa Clara\", 13.327231), (\"Santa Clara\", \"Anália Franco\", 13.327231), (\"Anália Franco\", \"Vila Formosa\", 13.327231), (\"Vila Formosa\", \"Santa Isabel\", 6.663616), (\"Santa Isabel\", \"Guilherme Giorgi\", 13.327231), (\"Guilherme Giorgi\", \"Aricanduva\", 13.327231), (\"Aricanduva\", \"Penha\", 13.327231)])\n",
    "\n",
    "G.add_nodes_from([\"Brasilandia\", \"Maristela\", \"Itaberaba-Hospital Vila Penteado\", \"João Paulo I\", \"Freguesia do Ó\", \"Santa Marina\", \"Água Branca\", \"SESC-Pompeia\", \"Perdizes\", \"PUC-Cardoso de Almeida\", \"FAAP-Pacaembu\", \"Higienópolis-Mackenzie\", \"14 Bis - Saracura\", \"Bela Vista\", \"São Joaquim\"])\n",
    "\n",
    "G.add_weighted_edges_from([(\"Brasilandia\", \"Maristela\", 36), (\"Maristela\", \"Itaberaba-Hospital Vila Penteado\", 28), (\"Itaberaba-Hospital Vila Penteado\", \"João Paulo I\", 20), (\"João Paulo I\", \"Freguesia do Ó\", 11), (\"Freguesia do Ó\", \"Santa Marina\", 3), (\"Santa Marina\", \"Água Branca\", 5), (\"Água Branca\", \"SESC-Pompeia\", 13), (\"SESC-Pompeia\", \"Perdizes\", 8), (\"Perdizes\", \"PUC-Cardoso de Almeida\", 9), (\"PUC-Cardoso de Almeida\", \"FAAP-Pacaembu\", 1), (\"FAAP-Pacaembu\", \"Higienópolis-Mackenzie\", 7), (\"Higienópolis-Mackenzie\", \"14 Bis - Saracura\", 15), (\"14 Bis - Saracura\", \"Bela Vista\", 24), (\"Bela Vista\", \"São Joaquim\", 32)])\n",
    "\n",
    "G.add_nodes_from([\"Congonhas\", \"Jardim Aeroporto\", \"Brooklin Paulista\", \"Vereador José Diniz\", \"Campo Belo\", \"Vila Cordeiro\", \"Chucri Zaidan\", \"Morumbi\"])\n",
    "\n",
    "G.add_weighted_edges_from([(\"Congonhas\", \"Jardim Aeroporto\", 34), (\"Jardim Aeroporto\", \"Brooklin Paulista\", 13), (\"Brooklin Paulista\", \"Vereador José Diniz\", 1), (\"Vereador José Diniz\", \"Campo Belo\", 2), (\"Campo Belo\", \"Vila Cordeiro\", 1), (\"Vila Cordeiro\", \"Chucri Zaidan\", 3), (\"Chucri Zaidan\", \"Morumbi\", 22)])"
   ]
  },
  {
   "cell_type": "code",
   "execution_count": 280,
   "metadata": {},
   "outputs": [
    {
     "name": "stdout",
     "output_type": "stream",
     "text": [
      "   Ordem  Tamanho  Tamanho ponderado  Conexo  Menor caminho médio  Diametro\n",
      "0    200      213        7414.954233    True            14.359045        39\n"
     ]
    }
   ],
   "source": [
    "data = {\n",
    "    \"Ordem\" : [G.order()],\n",
    "    \"Tamanho\" : [G.size()],\n",
    "    \"Tamanho ponderado\" : [G.size(weight=\"weight\")],\n",
    "    \"Conexo\" : [nx.is_connected(G)],\n",
    "    \"Menor caminho médio\" : [nx.average_shortest_path_length(G)],\n",
    "    \"Diametro\" : [nx.diameter(G)],\n",
    "}\n",
    "\n",
    "df2 = pd.DataFrame(data)\n",
    "print(df2)"
   ]
  },
  {
   "cell_type": "code",
   "execution_count": 281,
   "metadata": {},
   "outputs": [
    {
     "name": "stdout",
     "output_type": "stream",
     "text": [
      "['Jundiaí', 'Varginha']\n",
      "['Jundiaí', 'Várzea Paulista', 'Campo Limpo Paulista', 'Botujuru', 'Francisco Morato', 'Baltazar Fidélis', 'Franco da Rocha', 'Caieiras', 'Perus', 'Vila Aurora', 'Jaraguá', 'Vila Clarice', 'Pirituba', 'Piqueri', 'Lapa R', 'Agua Branca', 'Palmeiras-Barra Funda', 'Lapa D', 'Domingos Moraes', 'Imperatriz Leopoldina', 'Presidente Altino', 'Ceasa', 'Villa Lobos–Jaguaré', 'Cidade Universitária', 'Pinheiros', 'Hebraica–Rebouças', 'Cidade Jardim', 'Vila Olímpia', 'Berrini', 'Morumbi', 'Granja Julieta', 'João Dias', 'Santo Amaro', 'Socorro', 'Jurubatuba', 'Autódromo', 'Primavera–Interlagos', 'Grajaú', 'Bruno Covas/Mendes–Vila Natal', 'Varginha']\n"
     ]
    }
   ],
   "source": [
    "exc = nx.eccentricity(G)\n",
    "max_dist = [key for key, value in sorted(exc.items(), key=lambda x: x[1], reverse=True)[:2]]\n",
    "\n",
    "\n",
    "df_exc = pd.DataFrame(list(exc.items()), columns=[\"Node\", \"Eccentricity\"]).sort_values(by=\"Eccentricity\")\n",
    "\n",
    "path = nx.shortest_path(G, source = max_dist[0], target = max_dist[1] , weight=\"weight\")\n",
    "print(max_dist)\n",
    "print(path)"
   ]
  },
  {
   "cell_type": "code",
   "execution_count": 282,
   "metadata": {},
   "outputs": [
    {
     "name": "stdout",
     "output_type": "stream",
     "text": [
      "{'Jabaquara': 0.005025125628140704, 'Conceição': 0.010050251256281407, 'São Judas': 0.010050251256281407, 'Saúde': 0.010050251256281407, 'Praça da Árvore': 0.010050251256281407, 'Santa Cruz': 0.020100502512562814, 'Vila Mariana': 0.010050251256281407, 'Ana Rosa': 0.01507537688442211, 'Paraíso': 0.01507537688442211, 'Vergueiro': 0.010050251256281407, 'São Joaquim': 0.01507537688442211, 'Liberdade': 0.010050251256281407, 'Sé': 0.020100502512562814, 'São Bento': 0.010050251256281407, 'Luz': 0.02512562814070352, 'Tiradentes': 0.010050251256281407, 'Armênia': 0.010050251256281407, 'Portuguesa-Tietê': 0.010050251256281407, 'Carandiru': 0.010050251256281407, 'Santana': 0.010050251256281407, 'Jardim São Paulo-Ayrton Senna': 0.010050251256281407, 'Parada Inglesa': 0.010050251256281407, 'Tucuruvi': 0.005025125628140704, 'Vila Madalena': 0.005025125628140704, 'Santuário Nossa Senhora de Fátima-Sumaré': 0.010050251256281407, 'Clínicas': 0.010050251256281407, 'Paulista-Consolação': 0.020100502512562814, 'Trianon-Masp': 0.010050251256281407, 'Brigadeiro': 0.010050251256281407, 'Chácara Klabin': 0.01507537688442211, 'Santos-Imigrantes': 0.010050251256281407, 'Alto do Ipiranga': 0.010050251256281407, 'Sacoma': 0.010050251256281407, 'Tamanduatei': 0.020100502512562814, 'Vila Prudente': 0.01507537688442211, 'Palmeiras-Barra Funda': 0.02512562814070352, 'Marechal Deodoro': 0.010050251256281407, 'Santa Cecília': 0.010050251256281407, 'República': 0.020100502512562814, 'Anhangabaú': 0.010050251256281407, 'Pedro II': 0.010050251256281407, 'Brás': 0.02512562814070352, 'Bresser-Mooca': 0.010050251256281407, 'Belém': 0.010050251256281407, 'Tatuapé': 0.02512562814070352, 'Carrão-Assaí Atacadista': 0.010050251256281407, 'Penha': 0.01507537688442211, 'Vila Matilde': 0.010050251256281407, 'Guilhermina-Esperança': 0.010050251256281407, 'Patriarca': 0.010050251256281407, 'Artur Alvim': 0.010050251256281407, 'Corinthians-Itaquera': 0.01507537688442211, 'Higienópolis-Mackenzie': 0.020100502512562814, 'Oscar Freire': 0.010050251256281407, 'Fradique Coutinho': 0.010050251256281407, 'Faria Lima': 0.010050251256281407, 'Pinheiros': 0.020100502512562814, 'Butantã': 0.010050251256281407, 'São Paulo-Morumbi': 0.010050251256281407, 'Vila Sônia': 0.005025125628140704, 'Capão Redondo': 0.005025125628140704, 'Campo Limpo': 0.010050251256281407, 'Vila das Belezas': 0.010050251256281407, 'Giovanni Gronchi': 0.010050251256281407, 'Santo Amaro': 0.020100502512562814, 'Largo Treze': 0.010050251256281407, 'Adolfo Pinheiro': 0.010050251256281407, 'Alto da Boa Vista': 0.010050251256281407, 'Borba Gato': 0.010050251256281407, 'Brooklin': 0.010050251256281407, 'Campo Belo': 0.020100502512562814, 'Eucaliptos': 0.010050251256281407, 'Moema': 0.010050251256281407, 'AACD-Servidor': 0.010050251256281407, 'Hospital São Paulo': 0.010050251256281407, 'Agua Branca': 0.010050251256281407, 'Lapa R': 0.010050251256281407, 'Piqueri': 0.010050251256281407, 'Pirituba': 0.010050251256281407, 'Vila Clarice': 0.010050251256281407, 'Jaraguá': 0.010050251256281407, 'Vila Aurora': 0.010050251256281407, 'Perus': 0.010050251256281407, 'Caieiras': 0.010050251256281407, 'Franco da Rocha': 0.010050251256281407, 'Baltazar Fidélis': 0.010050251256281407, 'Francisco Morato': 0.010050251256281407, 'Botujuru': 0.010050251256281407, 'Campo Limpo Paulista': 0.010050251256281407, 'Várzea Paulista': 0.010050251256281407, 'Jundiaí': 0.005025125628140704, 'Armador Bueno': 0.005025125628140704, 'Santa Rita': 0.010050251256281407, 'Itapevi': 0.010050251256281407, 'Eng Cardoso': 0.010050251256281407, 'Sangrado Coração': 0.010050251256281407, 'Jandira': 0.010050251256281407, 'Jardim Silveira': 0.010050251256281407, 'Jardim Belval': 0.010050251256281407, 'Barueri': 0.010050251256281407, 'Antonio João': 0.010050251256281407, 'Santa Terezinha': 0.010050251256281407, 'Carapicuiba': 0.010050251256281407, 'General Miguel Costa': 0.010050251256281407, 'Quitauna': 0.010050251256281407, 'Comandante Sampaio': 0.010050251256281407, 'Osasco': 0.010050251256281407, 'Presidente Altino': 0.01507537688442211, 'Imperatriz Leopoldina': 0.010050251256281407, 'Domingos Moraes': 0.010050251256281407, 'Lapa D': 0.010050251256281407, 'Julio Prestes': 0.005025125628140704, 'Ceasa': 0.010050251256281407, 'Villa Lobos–Jaguaré': 0.010050251256281407, 'Cidade Universitária': 0.010050251256281407, 'Hebraica–Rebouças': 0.010050251256281407, 'Cidade Jardim': 0.010050251256281407, 'Vila Olímpia': 0.010050251256281407, 'Berrini': 0.010050251256281407, 'Morumbi': 0.01507537688442211, 'Granja Julieta': 0.010050251256281407, 'João Dias': 0.010050251256281407, 'Socorro': 0.010050251256281407, 'Jurubatuba': 0.010050251256281407, 'Autódromo': 0.010050251256281407, 'Primavera–Interlagos': 0.010050251256281407, 'Grajaú': 0.010050251256281407, 'Bruno Covas/Mendes–Vila Natal': 0.010050251256281407, 'Varginha': 0.005025125628140704, 'Juventude–Mooca': 0.010050251256281407, 'Ipiranga': 0.010050251256281407, 'São Caetano': 0.010050251256281407, 'Utinga': 0.010050251256281407, 'Prefeito Saladino': 0.010050251256281407, 'Santo André': 0.010050251256281407, 'Capuava': 0.010050251256281407, 'Mauá': 0.010050251256281407, 'Guapituba': 0.010050251256281407, 'Ribeirão Pires': 0.010050251256281407, 'Rio Grande da Serra': 0.005025125628140704, 'Dom Bosco': 0.010050251256281407, 'José Bonifácio': 0.010050251256281407, 'Guaianases': 0.010050251256281407, 'Antonio Gianetti Neto': 0.010050251256281407, 'Ferraz de Vasconcelos': 0.010050251256281407, 'Poá': 0.010050251256281407, 'Calmon Viana': 0.01507537688442211, 'Suzano': 0.010050251256281407, 'Jundiapeba': 0.010050251256281407, 'Bras Cubas': 0.010050251256281407, 'Mogi das Cruzes': 0.010050251256281407, 'Estudantes': 0.005025125628140704, 'Engenheiro Goulart': 0.01507537688442211, 'USP Leste': 0.010050251256281407, 'Comendador Ermelino': 0.010050251256281407, 'São Miguel Paulista': 0.010050251256281407, 'Jardim Helena-Vila Mara': 0.010050251256281407, 'Itaim Paulista': 0.010050251256281407, 'Jardim Romano': 0.010050251256281407, 'Engenheiro Manoel Feio': 0.010050251256281407, 'Itaquaquecetuba': 0.010050251256281407, 'Aracaré': 0.010050251256281407, 'Guarulhos–Cecap': 0.010050251256281407, 'Aeroporto-Guarulhos': 0.005025125628140704, 'Oratório': 0.010050251256281407, 'São Lucas': 0.010050251256281407, 'Camilo Haddad': 0.010050251256281407, 'Vila Tolstói': 0.010050251256281407, 'Vila União': 0.010050251256281407, 'Jardim Planalto': 0.010050251256281407, 'Sapopemba': 0.010050251256281407, 'Fazenda da Juta': 0.010050251256281407, 'São Mateus': 0.010050251256281407, 'Jardim Colonial': 0.005025125628140704, 'Orfanato': 0.010050251256281407, 'Santa Clara': 0.010050251256281407, 'Anália Franco': 0.010050251256281407, 'Vila Formosa': 0.010050251256281407, 'Santa Isabel': 0.010050251256281407, 'Guilherme Giorgi': 0.010050251256281407, 'Aricanduva': 0.010050251256281407, 'Brasilandia': 0.005025125628140704, 'Maristela': 0.010050251256281407, 'Itaberaba-Hospital Vila Penteado': 0.010050251256281407, 'João Paulo I': 0.010050251256281407, 'Freguesia do Ó': 0.010050251256281407, 'Santa Marina': 0.010050251256281407, 'Água Branca': 0.010050251256281407, 'SESC-Pompeia': 0.010050251256281407, 'Perdizes': 0.010050251256281407, 'PUC-Cardoso de Almeida': 0.010050251256281407, 'FAAP-Pacaembu': 0.010050251256281407, '14 Bis - Saracura': 0.010050251256281407, 'Bela Vista': 0.010050251256281407, 'Congonhas': 0.005025125628140704, 'Jardim Aeroporto': 0.010050251256281407, 'Brooklin Paulista': 0.010050251256281407, 'Vereador José Diniz': 0.010050251256281407, 'Vila Cordeiro': 0.010050251256281407, 'Chucri Zaidan': 0.010050251256281407}\n",
      "('Luz', 0.02512562814070352)\n"
     ]
    }
   ],
   "source": [
    "deg_centrality = nx.degree_centrality(G)\n",
    "\n",
    "print(deg_centrality)\n",
    "centrality_sorted = ((sorted(deg_centrality.items(), key=lambda item: item[1],reverse=True)))\n",
    "print(centrality_sorted[0]) # vertice com maior centralidade de grau [relativa]\n"
   ]
  },
  {
   "cell_type": "code",
   "execution_count": 283,
   "metadata": {},
   "outputs": [
    {
     "data": {
      "image/png": "[encoded data removed]",
      "text/plain": [
       "<Figure size 640x480 with 1 Axes>"
      ]
     },
     "metadata": {},
     "output_type": "display_data"
    }
   ],
   "source": [
    "degree_sequence = sorted((d for n, d in G.degree()), reverse=True)\n",
    "dmax = max(degree_sequence)\n",
    "plt.bar(*np.unique(degree_sequence, return_counts=True))\n",
    "plt.title(\"Distribuição de graus\")\n",
    "plt.xlabel(\"Grau\")\n",
    "plt.ylabel(\"Quantidade\")\n",
    "plt.show()"
   ]
  },
  {
   "cell_type": "code",
   "execution_count": 284,
   "metadata": {},
   "outputs": [
    {
     "name": "stdout",
     "output_type": "stream",
     "text": [
      "   Ordem  Tamanho  Tamanho ponderado  Conexo  Menor caminho médio  Diametro\n",
      "0    174      184             7027.0    True            14.416052        39\n",
      "   Ordem  Tamanho  Tamanho ponderado  Conexo  Menor caminho médio  Diametro\n",
      "0    181      192        7126.954233    True            14.299386        39\n",
      "   Ordem  Tamanho  Tamanho ponderado  Conexo  Menor caminho médio  Diametro\n",
      "0    187      198             7239.0    True            14.410327        39\n",
      "   Ordem  Tamanho  Tamanho ponderado  Conexo  Menor caminho médio  Diametro\n",
      "0    180      191             7103.0    True            14.446989        39\n",
      "   Ordem  Tamanho  Tamanho ponderado  Conexo  Menor caminho médio  Diametro\n",
      "0    200      213        7414.954233    True            14.359045        39\n"
     ]
    }
   ],
   "source": [
    "print(df)\n",
    "print(df_verde)\n",
    "print(df_laranja)\n",
    "print(df_ouro)\n",
    "print(df2)"
   ]
  },
  {
   "cell_type": "markdown",
   "metadata": {},
   "source": [
    "![Grafo_final](/home/paulo/Analise_do_sistema_metroviario_de_Sao_Paulo/Figures/MetroSP2024Final.png)"
   ]
  },
  {
   "cell_type": "markdown",
   "metadata": {
    "id": "IFvRpyIrn24n"
   },
   "source": [
    "# Referencias"
   ]
  },
  {
   "cell_type": "markdown",
   "metadata": {
    "id": "0Cqf28Ndn2Un"
   },
   "source": [
    "1. https://transparencia.metrosp.com.br/dataset/demanda/resource/e69866e9-6c7a-424f-ad4d-816c6b96b1c4\n",
    "2. https://www.viamobilidade.com.br/nos/passageiros-transportados/linha-9-esmeralda\n",
    "3. https://www.viamobilidade.com.br/nos/passageiros-transportados/linha-8-diamante\n",
    "4. https://www.viamobilidade.com.br/nos/passageiros-transportados/linha-5-lilas\n",
    "5. https://www.viaquatro.com.br/linha-4-amarela/passageiros-transportados\n",
    "6. https://www.linhauni.com.br/linha-6-laranja\n",
    "7. https://www.metro.sp.gov.br/obras/linha-2-verde/\n",
    "8. https://www.metro.sp.gov.br/obras/linha-17-ouro/\n",
    "9. https://www.aenabrasil.com.br/sites/Satellite?c=Prensa_FA&cid=1575152708484&pagename=Passageiros%2FPrensa_FA%2FDetalleNoticia&p=1575031500565\n",
    "10. https://www.gru.com.br/en/passenger/noticias-detalhe?code=328"
   ]
  }
 ],
 "metadata": {
  "colab": {
   "collapsed_sections": [
    "vOUjTzrYO3c9",
    "zTtOcbk1Q-JM",
    "3D4aLwE7SjmQ",
    "iPwa9sQcTT5e",
    "oh_0ypooUZcI",
    "L1pEgoqDU6iw",
    "N90I2CRdVvLh",
    "t2Q7p2uG_NNK",
    "-usERp_CXUwq",
    "_dFgHCGjN7-6"
   ],
   "provenance": [],
   "toc_visible": true
  },
  "kernelspec": {
   "display_name": "Python 3",
   "name": "python3"
  },
  "language_info": {
   "codemirror_mode": {
    "name": "ipython",
    "version": 3
   },
   "file_extension": ".py",
   "mimetype": "text/x-python",
   "name": "python",
   "nbconvert_exporter": "python",
   "pygments_lexer": "ipython3",
   "version": "3.10.12"
  }
 },
 "nbformat": 4,
 "nbformat_minor": 0
}
